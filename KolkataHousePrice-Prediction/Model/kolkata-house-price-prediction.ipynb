{
  "cells": [
    {
      "metadata": {
        "id": "uxJDfetMOWyP"
      },
      "cell_type": "markdown",
      "source": [
        "# Kolkata Housing Price Analysis & Prediction"
      ]
    },
    {
      "metadata": {
        "trusted": true,
        "id": "_Z6sO2ohOWyl"
      },
      "cell_type": "code",
      "source": [
        "import pandas as pd\n",
        "import numpy as np\n",
        "import seaborn as sns\n",
        "import matplotlib.pyplot as plt\n",
        "import statsmodels.api as sm\n",
        "from sklearn.model_selection import train_test_split\n",
        "from sklearn.linear_model import LinearRegression\n",
        "from sklearn import metrics\n",
        "from sklearn.metrics import mean_absolute_error"
      ],
      "execution_count": 4,
      "outputs": []
    },
    {
      "metadata": {
        "trusted": true,
        "id": "5R_x3N94OWyy"
      },
      "cell_type": "code",
      "source": [
        "\n",
        "kolkata = pd.read_csv('/content/Kolkata.csv')"
      ],
      "execution_count": 5,
      "outputs": []
    },
    {
      "metadata": {
        "trusted": true,
        "id": "5v6V32HdOWy3",
        "outputId": "115317ee-0793-4840-a37f-52ab115118c7",
        "colab": {
          "base_uri": "https://localhost:8080/",
          "height": 317
        }
      },
      "cell_type": "code",
      "source": [
        "kolkata.head()"
      ],
      "execution_count": 6,
      "outputs": [
        {
          "output_type": "execute_result",
          "data": {
            "text/plain": [
              "     Price  Area     Location  No. of Bedrooms  Resale  MaintenanceStaff  \\\n",
              "0  2235000  1016      Barasat                3       0                 0   \n",
              "1  3665999  1111    Keshtopur                2       0                 1   \n",
              "2  3774000  1020     Rajarhat                2       0                 0   \n",
              "3  2524000   935  Narendrapur                2       0                 0   \n",
              "4  8300000  1956     New Town                3       1                 0   \n",
              "\n",
              "   Gymnasium  SwimmingPool  LandscapedGardens  JoggingTrack  ...  \\\n",
              "0          1             1                  1             1  ...   \n",
              "1          1             0                  1             1  ...   \n",
              "2          1             0                  0             0  ...   \n",
              "3          1             1                  1             1  ...   \n",
              "4          1             1                  1             1  ...   \n",
              "\n",
              "   LiftAvailable  BED  VaastuCompliant  Microwave  GolfCourse  TV  \\\n",
              "0              1    0                0          0           0   0   \n",
              "1              0    0                0          0           0   0   \n",
              "2              1    0                0          0           0   0   \n",
              "3              0    0                0          0           0   0   \n",
              "4              1    0                1          0           0   0   \n",
              "\n",
              "   DiningTable  Sofa  Wardrobe  Refrigerator  \n",
              "0            0     0         0             0  \n",
              "1            0     0         0             0  \n",
              "2            0     0         0             0  \n",
              "3            0     0         0             0  \n",
              "4            0     0         0             0  \n",
              "\n",
              "[5 rows x 40 columns]"
            ],
            "text/html": [
              "\n",
              "  <div id=\"df-663ebda7-5271-4597-a972-6e15148a6907\">\n",
              "    <div class=\"colab-df-container\">\n",
              "      <div>\n",
              "<style scoped>\n",
              "    .dataframe tbody tr th:only-of-type {\n",
              "        vertical-align: middle;\n",
              "    }\n",
              "\n",
              "    .dataframe tbody tr th {\n",
              "        vertical-align: top;\n",
              "    }\n",
              "\n",
              "    .dataframe thead th {\n",
              "        text-align: right;\n",
              "    }\n",
              "</style>\n",
              "<table border=\"1\" class=\"dataframe\">\n",
              "  <thead>\n",
              "    <tr style=\"text-align: right;\">\n",
              "      <th></th>\n",
              "      <th>Price</th>\n",
              "      <th>Area</th>\n",
              "      <th>Location</th>\n",
              "      <th>No. of Bedrooms</th>\n",
              "      <th>Resale</th>\n",
              "      <th>MaintenanceStaff</th>\n",
              "      <th>Gymnasium</th>\n",
              "      <th>SwimmingPool</th>\n",
              "      <th>LandscapedGardens</th>\n",
              "      <th>JoggingTrack</th>\n",
              "      <th>...</th>\n",
              "      <th>LiftAvailable</th>\n",
              "      <th>BED</th>\n",
              "      <th>VaastuCompliant</th>\n",
              "      <th>Microwave</th>\n",
              "      <th>GolfCourse</th>\n",
              "      <th>TV</th>\n",
              "      <th>DiningTable</th>\n",
              "      <th>Sofa</th>\n",
              "      <th>Wardrobe</th>\n",
              "      <th>Refrigerator</th>\n",
              "    </tr>\n",
              "  </thead>\n",
              "  <tbody>\n",
              "    <tr>\n",
              "      <th>0</th>\n",
              "      <td>2235000</td>\n",
              "      <td>1016</td>\n",
              "      <td>Barasat</td>\n",
              "      <td>3</td>\n",
              "      <td>0</td>\n",
              "      <td>0</td>\n",
              "      <td>1</td>\n",
              "      <td>1</td>\n",
              "      <td>1</td>\n",
              "      <td>1</td>\n",
              "      <td>...</td>\n",
              "      <td>1</td>\n",
              "      <td>0</td>\n",
              "      <td>0</td>\n",
              "      <td>0</td>\n",
              "      <td>0</td>\n",
              "      <td>0</td>\n",
              "      <td>0</td>\n",
              "      <td>0</td>\n",
              "      <td>0</td>\n",
              "      <td>0</td>\n",
              "    </tr>\n",
              "    <tr>\n",
              "      <th>1</th>\n",
              "      <td>3665999</td>\n",
              "      <td>1111</td>\n",
              "      <td>Keshtopur</td>\n",
              "      <td>2</td>\n",
              "      <td>0</td>\n",
              "      <td>1</td>\n",
              "      <td>1</td>\n",
              "      <td>0</td>\n",
              "      <td>1</td>\n",
              "      <td>1</td>\n",
              "      <td>...</td>\n",
              "      <td>0</td>\n",
              "      <td>0</td>\n",
              "      <td>0</td>\n",
              "      <td>0</td>\n",
              "      <td>0</td>\n",
              "      <td>0</td>\n",
              "      <td>0</td>\n",
              "      <td>0</td>\n",
              "      <td>0</td>\n",
              "      <td>0</td>\n",
              "    </tr>\n",
              "    <tr>\n",
              "      <th>2</th>\n",
              "      <td>3774000</td>\n",
              "      <td>1020</td>\n",
              "      <td>Rajarhat</td>\n",
              "      <td>2</td>\n",
              "      <td>0</td>\n",
              "      <td>0</td>\n",
              "      <td>1</td>\n",
              "      <td>0</td>\n",
              "      <td>0</td>\n",
              "      <td>0</td>\n",
              "      <td>...</td>\n",
              "      <td>1</td>\n",
              "      <td>0</td>\n",
              "      <td>0</td>\n",
              "      <td>0</td>\n",
              "      <td>0</td>\n",
              "      <td>0</td>\n",
              "      <td>0</td>\n",
              "      <td>0</td>\n",
              "      <td>0</td>\n",
              "      <td>0</td>\n",
              "    </tr>\n",
              "    <tr>\n",
              "      <th>3</th>\n",
              "      <td>2524000</td>\n",
              "      <td>935</td>\n",
              "      <td>Narendrapur</td>\n",
              "      <td>2</td>\n",
              "      <td>0</td>\n",
              "      <td>0</td>\n",
              "      <td>1</td>\n",
              "      <td>1</td>\n",
              "      <td>1</td>\n",
              "      <td>1</td>\n",
              "      <td>...</td>\n",
              "      <td>0</td>\n",
              "      <td>0</td>\n",
              "      <td>0</td>\n",
              "      <td>0</td>\n",
              "      <td>0</td>\n",
              "      <td>0</td>\n",
              "      <td>0</td>\n",
              "      <td>0</td>\n",
              "      <td>0</td>\n",
              "      <td>0</td>\n",
              "    </tr>\n",
              "    <tr>\n",
              "      <th>4</th>\n",
              "      <td>8300000</td>\n",
              "      <td>1956</td>\n",
              "      <td>New Town</td>\n",
              "      <td>3</td>\n",
              "      <td>1</td>\n",
              "      <td>0</td>\n",
              "      <td>1</td>\n",
              "      <td>1</td>\n",
              "      <td>1</td>\n",
              "      <td>1</td>\n",
              "      <td>...</td>\n",
              "      <td>1</td>\n",
              "      <td>0</td>\n",
              "      <td>1</td>\n",
              "      <td>0</td>\n",
              "      <td>0</td>\n",
              "      <td>0</td>\n",
              "      <td>0</td>\n",
              "      <td>0</td>\n",
              "      <td>0</td>\n",
              "      <td>0</td>\n",
              "    </tr>\n",
              "  </tbody>\n",
              "</table>\n",
              "<p>5 rows × 40 columns</p>\n",
              "</div>\n",
              "      <button class=\"colab-df-convert\" onclick=\"convertToInteractive('df-663ebda7-5271-4597-a972-6e15148a6907')\"\n",
              "              title=\"Convert this dataframe to an interactive table.\"\n",
              "              style=\"display:none;\">\n",
              "        \n",
              "  <svg xmlns=\"http://www.w3.org/2000/svg\" height=\"24px\"viewBox=\"0 0 24 24\"\n",
              "       width=\"24px\">\n",
              "    <path d=\"M0 0h24v24H0V0z\" fill=\"none\"/>\n",
              "    <path d=\"M18.56 5.44l.94 2.06.94-2.06 2.06-.94-2.06-.94-.94-2.06-.94 2.06-2.06.94zm-11 1L8.5 8.5l.94-2.06 2.06-.94-2.06-.94L8.5 2.5l-.94 2.06-2.06.94zm10 10l.94 2.06.94-2.06 2.06-.94-2.06-.94-.94-2.06-.94 2.06-2.06.94z\"/><path d=\"M17.41 7.96l-1.37-1.37c-.4-.4-.92-.59-1.43-.59-.52 0-1.04.2-1.43.59L10.3 9.45l-7.72 7.72c-.78.78-.78 2.05 0 2.83L4 21.41c.39.39.9.59 1.41.59.51 0 1.02-.2 1.41-.59l7.78-7.78 2.81-2.81c.8-.78.8-2.07 0-2.86zM5.41 20L4 18.59l7.72-7.72 1.47 1.35L5.41 20z\"/>\n",
              "  </svg>\n",
              "      </button>\n",
              "      \n",
              "  <style>\n",
              "    .colab-df-container {\n",
              "      display:flex;\n",
              "      flex-wrap:wrap;\n",
              "      gap: 12px;\n",
              "    }\n",
              "\n",
              "    .colab-df-convert {\n",
              "      background-color: #E8F0FE;\n",
              "      border: none;\n",
              "      border-radius: 50%;\n",
              "      cursor: pointer;\n",
              "      display: none;\n",
              "      fill: #1967D2;\n",
              "      height: 32px;\n",
              "      padding: 0 0 0 0;\n",
              "      width: 32px;\n",
              "    }\n",
              "\n",
              "    .colab-df-convert:hover {\n",
              "      background-color: #E2EBFA;\n",
              "      box-shadow: 0px 1px 2px rgba(60, 64, 67, 0.3), 0px 1px 3px 1px rgba(60, 64, 67, 0.15);\n",
              "      fill: #174EA6;\n",
              "    }\n",
              "\n",
              "    [theme=dark] .colab-df-convert {\n",
              "      background-color: #3B4455;\n",
              "      fill: #D2E3FC;\n",
              "    }\n",
              "\n",
              "    [theme=dark] .colab-df-convert:hover {\n",
              "      background-color: #434B5C;\n",
              "      box-shadow: 0px 1px 3px 1px rgba(0, 0, 0, 0.15);\n",
              "      filter: drop-shadow(0px 1px 2px rgba(0, 0, 0, 0.3));\n",
              "      fill: #FFFFFF;\n",
              "    }\n",
              "  </style>\n",
              "\n",
              "      <script>\n",
              "        const buttonEl =\n",
              "          document.querySelector('#df-663ebda7-5271-4597-a972-6e15148a6907 button.colab-df-convert');\n",
              "        buttonEl.style.display =\n",
              "          google.colab.kernel.accessAllowed ? 'block' : 'none';\n",
              "\n",
              "        async function convertToInteractive(key) {\n",
              "          const element = document.querySelector('#df-663ebda7-5271-4597-a972-6e15148a6907');\n",
              "          const dataTable =\n",
              "            await google.colab.kernel.invokeFunction('convertToInteractive',\n",
              "                                                     [key], {});\n",
              "          if (!dataTable) return;\n",
              "\n",
              "          const docLinkHtml = 'Like what you see? Visit the ' +\n",
              "            '<a target=\"_blank\" href=https://colab.research.google.com/notebooks/data_table.ipynb>data table notebook</a>'\n",
              "            + ' to learn more about interactive tables.';\n",
              "          element.innerHTML = '';\n",
              "          dataTable['output_type'] = 'display_data';\n",
              "          await google.colab.output.renderOutput(dataTable, element);\n",
              "          const docLink = document.createElement('div');\n",
              "          docLink.innerHTML = docLinkHtml;\n",
              "          element.appendChild(docLink);\n",
              "        }\n",
              "      </script>\n",
              "    </div>\n",
              "  </div>\n",
              "  "
            ]
          },
          "metadata": {},
          "execution_count": 6
        }
      ]
    },
    {
      "metadata": {
        "tags": [],
        "trusted": true,
        "id": "YCpqnWGQOWzC",
        "outputId": "d3245d09-64bd-4a92-a3ee-654a71dde33f",
        "colab": {
          "base_uri": "https://localhost:8080/"
        }
      },
      "cell_type": "code",
      "source": [
        "kolkata.info()"
      ],
      "execution_count": 7,
      "outputs": [
        {
          "output_type": "stream",
          "name": "stdout",
          "text": [
            "<class 'pandas.core.frame.DataFrame'>\n",
            "RangeIndex: 6507 entries, 0 to 6506\n",
            "Data columns (total 40 columns):\n",
            " #   Column               Non-Null Count  Dtype \n",
            "---  ------               --------------  ----- \n",
            " 0   Price                6507 non-null   int64 \n",
            " 1   Area                 6507 non-null   int64 \n",
            " 2   Location             6507 non-null   object\n",
            " 3   No. of Bedrooms      6507 non-null   int64 \n",
            " 4   Resale               6507 non-null   int64 \n",
            " 5   MaintenanceStaff     6507 non-null   int64 \n",
            " 6   Gymnasium            6507 non-null   int64 \n",
            " 7   SwimmingPool         6507 non-null   int64 \n",
            " 8   LandscapedGardens    6507 non-null   int64 \n",
            " 9   JoggingTrack         6507 non-null   int64 \n",
            " 10  RainWaterHarvesting  6507 non-null   int64 \n",
            " 11  IndoorGames          6507 non-null   int64 \n",
            " 12  ShoppingMall         6507 non-null   int64 \n",
            " 13  Intercom             6507 non-null   int64 \n",
            " 14  SportsFacility       6507 non-null   int64 \n",
            " 15  ATM                  6507 non-null   int64 \n",
            " 16  ClubHouse            6507 non-null   int64 \n",
            " 17  School               6507 non-null   int64 \n",
            " 18  24X7Security         6507 non-null   int64 \n",
            " 19  PowerBackup          6507 non-null   int64 \n",
            " 20  CarParking           6507 non-null   int64 \n",
            " 21  StaffQuarter         6507 non-null   int64 \n",
            " 22  Cafeteria            6507 non-null   int64 \n",
            " 23  MultipurposeRoom     6507 non-null   int64 \n",
            " 24  Hospital             6507 non-null   int64 \n",
            " 25  WashingMachine       6507 non-null   int64 \n",
            " 26  Gasconnection        6507 non-null   int64 \n",
            " 27  AC                   6507 non-null   int64 \n",
            " 28  Wifi                 6507 non-null   int64 \n",
            " 29  Children'splayarea   6507 non-null   int64 \n",
            " 30  LiftAvailable        6507 non-null   int64 \n",
            " 31  BED                  6507 non-null   int64 \n",
            " 32  VaastuCompliant      6507 non-null   int64 \n",
            " 33  Microwave            6507 non-null   int64 \n",
            " 34  GolfCourse           6507 non-null   int64 \n",
            " 35  TV                   6507 non-null   int64 \n",
            " 36  DiningTable          6507 non-null   int64 \n",
            " 37  Sofa                 6507 non-null   int64 \n",
            " 38  Wardrobe             6507 non-null   int64 \n",
            " 39  Refrigerator         6507 non-null   int64 \n",
            "dtypes: int64(39), object(1)\n",
            "memory usage: 2.0+ MB\n"
          ]
        }
      ]
    },
    {
      "metadata": {
        "trusted": true,
        "id": "dW-WT2jwOWzI",
        "outputId": "10917792-55b7-4ec7-d479-d91f6151bbb6",
        "colab": {
          "base_uri": "https://localhost:8080/"
        }
      },
      "cell_type": "code",
      "source": [
        "len(kolkata)"
      ],
      "execution_count": 8,
      "outputs": [
        {
          "output_type": "execute_result",
          "data": {
            "text/plain": [
              "6507"
            ]
          },
          "metadata": {},
          "execution_count": 8
        }
      ]
    },
    {
      "metadata": {
        "id": "ElPx5BMTOWzO"
      },
      "cell_type": "markdown",
      "source": [
        "This dataset is already available on Kaggle in cleaned up form and we can see there are no missing values in any of the columns. (6507/6507 for all features). We also see that there are close to 40 potential features that can determine the price of the apartment. Except for 'Area', 'Location' and 'No. of Bedrooms' all other features are Boolean type, i.e. either present or not present. We do not have any ordinal features (such as good/average or old/new etc in this case).\n",
        "\n",
        "A key metric in the housing industry, at least in India, is <b>\"Price Per Square Feet (Price/Area)\"</b>, expressed as Rupees Per Square Feet (Rupee being our currency). Almost everyone uses this metric to compare the prices as it eliminates the impact of house size and provides an apple to apple comparison. Let us add a column that captures Price Per Square Feet. We will call this <b>\"PricePSF\"</b> in short"
      ]
    },
    {
      "metadata": {
        "trusted": true,
        "id": "tskx9fG-OWzU"
      },
      "cell_type": "code",
      "source": [
        "kolkata['PricePSF'] = kolkata['Price'] / kolkata['Area']"
      ],
      "execution_count": 9,
      "outputs": []
    },
    {
      "metadata": {
        "id": "0KtC8H3ROWzb"
      },
      "cell_type": "markdown",
      "source": [
        "Let us check the distribution of the non-boolean and non-string elements of our data"
      ]
    },
    {
      "metadata": {
        "trusted": true,
        "id": "0RuSxgefOWze",
        "outputId": "db65f3b1-e300-41fa-a54e-7f16383873a8",
        "colab": {
          "base_uri": "https://localhost:8080/",
          "height": 868
        }
      },
      "cell_type": "code",
      "source": [
        "def dist_plot (feature, color, position=121):\n",
        "    plt.figure(figsize=(15,4))\n",
        "    plt.subplot(position)\n",
        "    sns.boxplot(x=feature, data=kolkata, color=color)\n",
        "    plt.subplot(position+1)\n",
        "    sns.distplot(kolkata[feature], color=color)\n",
        "dist_plot('Price', 'red')\n",
        "dist_plot('Area', 'grey')\n",
        "dist_plot('PricePSF', 'teal')"
      ],
      "execution_count": 10,
      "outputs": [
        {
          "output_type": "stream",
          "name": "stderr",
          "text": [
            "<ipython-input-10-f18dddf9e80a>:6: UserWarning: \n",
            "\n",
            "`distplot` is a deprecated function and will be removed in seaborn v0.14.0.\n",
            "\n",
            "Please adapt your code to use either `displot` (a figure-level function with\n",
            "similar flexibility) or `histplot` (an axes-level function for histograms).\n",
            "\n",
            "For a guide to updating your code to use the new functions, please see\n",
            "https://gist.github.com/mwaskom/de44147ed2974457ad6372750bbe5751\n",
            "\n",
            "  sns.distplot(kolkata[feature], color=color)\n",
            "<ipython-input-10-f18dddf9e80a>:6: UserWarning: \n",
            "\n",
            "`distplot` is a deprecated function and will be removed in seaborn v0.14.0.\n",
            "\n",
            "Please adapt your code to use either `displot` (a figure-level function with\n",
            "similar flexibility) or `histplot` (an axes-level function for histograms).\n",
            "\n",
            "For a guide to updating your code to use the new functions, please see\n",
            "https://gist.github.com/mwaskom/de44147ed2974457ad6372750bbe5751\n",
            "\n",
            "  sns.distplot(kolkata[feature], color=color)\n",
            "<ipython-input-10-f18dddf9e80a>:6: UserWarning: \n",
            "\n",
            "`distplot` is a deprecated function and will be removed in seaborn v0.14.0.\n",
            "\n",
            "Please adapt your code to use either `displot` (a figure-level function with\n",
            "similar flexibility) or `histplot` (an axes-level function for histograms).\n",
            "\n",
            "For a guide to updating your code to use the new functions, please see\n",
            "https://gist.github.com/mwaskom/de44147ed2974457ad6372750bbe5751\n",
            "\n",
            "  sns.distplot(kolkata[feature], color=color)\n"
          ]
        },
        {
          "output_type": "display_data",
          "data": {
            "text/plain": [
              "<Figure size 1500x400 with 2 Axes>"
            ],
            "image/png": "[encoded data removed]"
          },
          "metadata": {}
        },
        {
          "output_type": "display_data",
          "data": {
            "text/plain": [
              "<Figure size 1500x400 with 2 Axes>"
            ],
            "image/png": "[encoded data removed]"
          },
          "metadata": {}
        },
        {
          "output_type": "display_data",
          "data": {
            "text/plain": [
              "<Figure size 1500x400 with 2 Axes>"
            ],
            "image/png": "[encoded data removed]"
          },
          "metadata": {}
        }
      ]
    },
    {
      "metadata": {
        "id": "KlTWGF2IOWzk"
      },
      "cell_type": "markdown",
      "source": [
        "As we can see above, the data is <b>heavily right-skewed</b> for Price and Area both. One would expect that PricePSF would be normally distributed as it is a ratio, however it is not so. This indicates either or both of the following:\n",
        "\n",
        "1. There is much more skewness in Price compared to Area\n",
        "2. The houses with high Prices are not necessarily the ones with the large Area, hence PricePSF is not able to normalize such cases\n",
        "\n",
        "We now proceed to <b>remove outliers</b> so that they don't have a lopsided impact on our model. As the data is heavily right skewed, we remove a higher percentile (10%) from the top versus bottom(5%)"
      ]
    },
    {
      "metadata": {
        "trusted": true,
        "id": "Pj7VYWS2OWzo"
      },
      "cell_type": "code",
      "source": [
        "# define outliers\n",
        "price_psf_outliers = np.percentile(kolkata.PricePSF, [5,90])\n",
        "price_outliers = np.percentile(kolkata.Price, [5,90])\n",
        "area_outliers = np.percentile(kolkata.Area, [5,90])\n",
        "# create filters based on outliers\n",
        "price_psf_filter = (kolkata.PricePSF > price_psf_outliers[0]) & (kolkata.PricePSF < price_psf_outliers[1])\n",
        "price_filter = (kolkata.Price > price_outliers[0]) & (kolkata.Price < price_outliers[1])\n",
        "area_filter = (kolkata.Area > area_outliers[0]) & (kolkata.Area < area_outliers[1])\n",
        "# apply filters\n",
        "bangalore = kolkata[(price_psf_filter) & (price_filter) & (area_filter)]"
      ],
      "execution_count": 11,
      "outputs": []
    },
    {
      "metadata": {
        "id": "4_D7Me6xOWzu"
      },
      "cell_type": "markdown",
      "source": [
        "Let us check the distribution again"
      ]
    },
    {
      "metadata": {
        "trusted": true,
        "id": "jLnyfHmDOWzx",
        "outputId": "5b3359b7-1b9a-4e6e-ac90-5457513894a6",
        "colab": {
          "base_uri": "https://localhost:8080/",
          "height": 868
        }
      },
      "cell_type": "code",
      "source": [
        "dist_plot('Price', 'red')\n",
        "dist_plot('Area', 'grey')\n",
        "dist_plot('PricePSF', 'teal')"
      ],
      "execution_count": 12,
      "outputs": [
        {
          "output_type": "stream",
          "name": "stderr",
          "text": [
            "<ipython-input-10-f18dddf9e80a>:6: UserWarning: \n",
            "\n",
            "`distplot` is a deprecated function and will be removed in seaborn v0.14.0.\n",
            "\n",
            "Please adapt your code to use either `displot` (a figure-level function with\n",
            "similar flexibility) or `histplot` (an axes-level function for histograms).\n",
            "\n",
            "For a guide to updating your code to use the new functions, please see\n",
            "https://gist.github.com/mwaskom/de44147ed2974457ad6372750bbe5751\n",
            "\n",
            "  sns.distplot(kolkata[feature], color=color)\n",
            "<ipython-input-10-f18dddf9e80a>:6: UserWarning: \n",
            "\n",
            "`distplot` is a deprecated function and will be removed in seaborn v0.14.0.\n",
            "\n",
            "Please adapt your code to use either `displot` (a figure-level function with\n",
            "similar flexibility) or `histplot` (an axes-level function for histograms).\n",
            "\n",
            "For a guide to updating your code to use the new functions, please see\n",
            "https://gist.github.com/mwaskom/de44147ed2974457ad6372750bbe5751\n",
            "\n",
            "  sns.distplot(kolkata[feature], color=color)\n",
            "<ipython-input-10-f18dddf9e80a>:6: UserWarning: \n",
            "\n",
            "`distplot` is a deprecated function and will be removed in seaborn v0.14.0.\n",
            "\n",
            "Please adapt your code to use either `displot` (a figure-level function with\n",
            "similar flexibility) or `histplot` (an axes-level function for histograms).\n",
            "\n",
            "For a guide to updating your code to use the new functions, please see\n",
            "https://gist.github.com/mwaskom/de44147ed2974457ad6372750bbe5751\n",
            "\n",
            "  sns.distplot(kolkata[feature], color=color)\n"
          ]
        },
        {
          "output_type": "display_data",
          "data": {
            "text/plain": [
              "<Figure size 1500x400 with 2 Axes>"
            ],
            "image/png": "[encoded data removed]"
          },
          "metadata": {}
        },
        {
          "output_type": "display_data",
          "data": {
            "text/plain": [
              "<Figure size 1500x400 with 2 Axes>"
            ],
            "image/png": "[encoded data removed]"
          },
          "metadata": {}
        },
        {
          "output_type": "display_data",
          "data": {
            "text/plain": [
              "<Figure size 1500x400 with 2 Axes>"
            ],
            "image/png": "[encoded data removed]"
          },
          "metadata": {}
        }
      ]
    },
    {
      "metadata": {
        "id": "GabviWtbOWz0"
      },
      "cell_type": "markdown",
      "source": [
        "The above distributions looks far better. Though there is still right-skewnesss, we can expect this from real estate prices as a small number of large size and expensive properties will pull the distribution to the right."
      ]
    },
    {
      "metadata": {
        "id": "xWZzrOWuOWz2"
      },
      "cell_type": "markdown",
      "source": [
        "<h3>Let us briefly discuss what drives a house price (longish read but important):</h3>\n",
        "\n",
        "1. Area - Larger, would logically mean more expensive, all else held constant\n",
        "2. Location - Factoring this requires knowledge of local area. We will try a workaround for this\n",
        "3. Amenities - This is tricky. High rise apartment complexes will have lot of amenities compared to independent houses and villas. Yet they may be cheaper because all these amenities are shared. In the subsequent sections I have tried to create a 'FeatureScore' for amenities (higher FeatureScore should imply higher Price). However I admit that independent houses may lose out on this and the model may underprice such houses. I would welcome inputs on how to tackle this.\n",
        "4. Floor rise - In high rise complexes in India, houses on higher floors are priced higher by a linear formula. Floor data is absent from the data set.\n",
        "5. Developer Reputation - Again this is very important in India. Two apartments in the same Location by developers of different repute have markedly different PricePSF. This information is absent from the data set. Even if it was available, one would require some local knowledge to factor in developer score.\n",
        "6. Resale or not - Another tricky one. In absence of the age of the house, only a Resale binary may not produce accurate results. A one year old resale versus 20 year old are very different. In some cases a 3-4 year resale may fetch a higher PricePSF as the complex would have matured and be niggle free, better landscaped etc.\n",
        "\n",
        "<h3>As we can see, quite a few important variables are not available in the data set, hence our model may not perform very well on the test set</h3>"
      ]
    },
    {
      "metadata": {
        "id": "OeTQqG4ROWz5"
      },
      "cell_type": "markdown",
      "source": [
        "Let us now check the features available to us and also clean up the names so that they do not cause any problems later"
      ]
    },
    {
      "metadata": {
        "trusted": true,
        "id": "A9fiG_6TOWz-",
        "outputId": "99ec47d3-4800-4fcf-f499-6bd4df9187cc",
        "colab": {
          "base_uri": "https://localhost:8080/"
        }
      },
      "cell_type": "code",
      "source": [
        "kolkata.columns"
      ],
      "execution_count": 13,
      "outputs": [
        {
          "output_type": "execute_result",
          "data": {
            "text/plain": [
              "Index(['Price', 'Area', 'Location', 'No. of Bedrooms', 'Resale',\n",
              "       'MaintenanceStaff', 'Gymnasium', 'SwimmingPool', 'LandscapedGardens',\n",
              "       'JoggingTrack', 'RainWaterHarvesting', 'IndoorGames', 'ShoppingMall',\n",
              "       'Intercom', 'SportsFacility', 'ATM', 'ClubHouse', 'School',\n",
              "       '24X7Security', 'PowerBackup', 'CarParking', 'StaffQuarter',\n",
              "       'Cafeteria', 'MultipurposeRoom', 'Hospital', 'WashingMachine',\n",
              "       'Gasconnection', 'AC', 'Wifi', 'Children'splayarea', 'LiftAvailable',\n",
              "       'BED', 'VaastuCompliant', 'Microwave', 'GolfCourse', 'TV',\n",
              "       'DiningTable', 'Sofa', 'Wardrobe', 'Refrigerator', 'PricePSF'],\n",
              "      dtype='object')"
            ]
          },
          "metadata": {},
          "execution_count": 13
        }
      ]
    },
    {
      "metadata": {
        "id": "es10Q47nOW0C"
      },
      "cell_type": "markdown",
      "source": [
        "Two columns seem to have problematic names. Let's rename them"
      ]
    },
    {
      "metadata": {
        "trusted": true,
        "id": "piSJXf3FOW0E"
      },
      "cell_type": "code",
      "source": [
        "kolkata.rename(columns={'No. of Bedrooms':'Bedrooms', \"Children'splayarea\":'PlayArea'}, inplace=True)"
      ],
      "execution_count": 14,
      "outputs": []
    },
    {
      "metadata": {
        "id": "pgTk1d7aOW0G"
      },
      "cell_type": "markdown",
      "source": [
        "As we can see from the columns list, there are a lot of features, most of them binary. Most of the binary features will fit under the broad category of <b>Amenities</b>. In the following section I have tried to calculate feature scores for each house bases on the Amenities being absent or present.\n",
        "\n",
        "<b><u>Note: Important</u></b> - I have assigned weights to binary features based on my discretion. You are free to use the weights you want. I have also used a scale of 0-4 (0 being least important and 4 being most important). Again the choice of this scale is entirely up to you."
      ]
    },
    {
      "metadata": {
        "trusted": true,
        "id": "xjXDLji0OW0I"
      },
      "cell_type": "code",
      "source": [
        "# assign weights to features\n",
        "feature_dict = {'MaintenanceStaff':2, 'Gymnasium':4, 'SwimmingPool':4,'LandscapedGardens':3, 'JoggingTrack':3, 'RainWaterHarvesting':2,'IndoorGames':3, 'ShoppingMall':2, 'Intercom':2, 'SportsFacility':3, 'ATM':2, 'ClubHouse':2, 'School':2, '24X7Security':1, 'PowerBackup':4, 'CarParking':3, 'StaffQuarter':0, 'Cafeteria':0, 'MultipurposeRoom':2, 'Hospital':3, 'WashingMachine':0, 'Gasconnection':2, 'AC':0, 'Wifi':0, 'PlayArea':3, 'LiftAvailable':0, 'BED':0, 'VaastuCompliant':0, 'Microwave':0, 'GolfCourse':0, 'TV':0, 'DiningTable':0, 'Sofa':0, 'Wardrobe':0, 'Refrigerator':0}"
      ],
      "execution_count": 15,
      "outputs": []
    },
    {
      "metadata": {
        "trusted": true,
        "id": "jCg_k5ohOW0N"
      },
      "cell_type": "code",
      "source": [
        "# convert to Dataframe\n",
        "features = pd.DataFrame(feature_dict.items(), columns=['Features', 'Weight'])"
      ],
      "execution_count": 16,
      "outputs": []
    },
    {
      "metadata": {
        "trusted": true,
        "id": "uGgDpb7hOW0Q",
        "outputId": "1d6fc388-9fdb-487d-a723-13e2c5ff53bb",
        "colab": {
          "base_uri": "https://localhost:8080/",
          "height": 250
        }
      },
      "cell_type": "code",
      "source": [
        "features.head()"
      ],
      "execution_count": 17,
      "outputs": [
        {
          "output_type": "execute_result",
          "data": {
            "text/plain": [
              "            Features  Weight\n",
              "0   MaintenanceStaff       2\n",
              "1          Gymnasium       4\n",
              "2       SwimmingPool       4\n",
              "3  LandscapedGardens       3\n",
              "4       JoggingTrack       3"
            ],
            "text/html": [
              "\n",
              "  <div id=\"df-f9c3e897-aa02-4f16-8ad7-14a96c496c0f\">\n",
              "    <div class=\"colab-df-container\">\n",
              "      <div>\n",
              "<style scoped>\n",
              "    .dataframe tbody tr th:only-of-type {\n",
              "        vertical-align: middle;\n",
              "    }\n",
              "\n",
              "    .dataframe tbody tr th {\n",
              "        vertical-align: top;\n",
              "    }\n",
              "\n",
              "    .dataframe thead th {\n",
              "        text-align: right;\n",
              "    }\n",
              "</style>\n",
              "<table border=\"1\" class=\"dataframe\">\n",
              "  <thead>\n",
              "    <tr style=\"text-align: right;\">\n",
              "      <th></th>\n",
              "      <th>Features</th>\n",
              "      <th>Weight</th>\n",
              "    </tr>\n",
              "  </thead>\n",
              "  <tbody>\n",
              "    <tr>\n",
              "      <th>0</th>\n",
              "      <td>MaintenanceStaff</td>\n",
              "      <td>2</td>\n",
              "    </tr>\n",
              "    <tr>\n",
              "      <th>1</th>\n",
              "      <td>Gymnasium</td>\n",
              "      <td>4</td>\n",
              "    </tr>\n",
              "    <tr>\n",
              "      <th>2</th>\n",
              "      <td>SwimmingPool</td>\n",
              "      <td>4</td>\n",
              "    </tr>\n",
              "    <tr>\n",
              "      <th>3</th>\n",
              "      <td>LandscapedGardens</td>\n",
              "      <td>3</td>\n",
              "    </tr>\n",
              "    <tr>\n",
              "      <th>4</th>\n",
              "      <td>JoggingTrack</td>\n",
              "      <td>3</td>\n",
              "    </tr>\n",
              "  </tbody>\n",
              "</table>\n",
              "</div>\n",
              "      <button class=\"colab-df-convert\" onclick=\"convertToInteractive('df-f9c3e897-aa02-4f16-8ad7-14a96c496c0f')\"\n",
              "              title=\"Convert this dataframe to an interactive table.\"\n",
              "              style=\"display:none;\">\n",
              "        \n",
              "  <svg xmlns=\"http://www.w3.org/2000/svg\" height=\"24px\"viewBox=\"0 0 24 24\"\n",
              "       width=\"24px\">\n",
              "    <path d=\"M0 0h24v24H0V0z\" fill=\"none\"/>\n",
              "    <path d=\"M18.56 5.44l.94 2.06.94-2.06 2.06-.94-2.06-.94-.94-2.06-.94 2.06-2.06.94zm-11 1L8.5 8.5l.94-2.06 2.06-.94-2.06-.94L8.5 2.5l-.94 2.06-2.06.94zm10 10l.94 2.06.94-2.06 2.06-.94-2.06-.94-.94-2.06-.94 2.06-2.06.94z\"/><path d=\"M17.41 7.96l-1.37-1.37c-.4-.4-.92-.59-1.43-.59-.52 0-1.04.2-1.43.59L10.3 9.45l-7.72 7.72c-.78.78-.78 2.05 0 2.83L4 21.41c.39.39.9.59 1.41.59.51 0 1.02-.2 1.41-.59l7.78-7.78 2.81-2.81c.8-.78.8-2.07 0-2.86zM5.41 20L4 18.59l7.72-7.72 1.47 1.35L5.41 20z\"/>\n",
              "  </svg>\n",
              "      </button>\n",
              "      \n",
              "  <style>\n",
              "    .colab-df-container {\n",
              "      display:flex;\n",
              "      flex-wrap:wrap;\n",
              "      gap: 12px;\n",
              "    }\n",
              "\n",
              "    .colab-df-convert {\n",
              "      background-color: #E8F0FE;\n",
              "      border: none;\n",
              "      border-radius: 50%;\n",
              "      cursor: pointer;\n",
              "      display: none;\n",
              "      fill: #1967D2;\n",
              "      height: 32px;\n",
              "      padding: 0 0 0 0;\n",
              "      width: 32px;\n",
              "    }\n",
              "\n",
              "    .colab-df-convert:hover {\n",
              "      background-color: #E2EBFA;\n",
              "      box-shadow: 0px 1px 2px rgba(60, 64, 67, 0.3), 0px 1px 3px 1px rgba(60, 64, 67, 0.15);\n",
              "      fill: #174EA6;\n",
              "    }\n",
              "\n",
              "    [theme=dark] .colab-df-convert {\n",
              "      background-color: #3B4455;\n",
              "      fill: #D2E3FC;\n",
              "    }\n",
              "\n",
              "    [theme=dark] .colab-df-convert:hover {\n",
              "      background-color: #434B5C;\n",
              "      box-shadow: 0px 1px 3px 1px rgba(0, 0, 0, 0.15);\n",
              "      filter: drop-shadow(0px 1px 2px rgba(0, 0, 0, 0.3));\n",
              "      fill: #FFFFFF;\n",
              "    }\n",
              "  </style>\n",
              "\n",
              "      <script>\n",
              "        const buttonEl =\n",
              "          document.querySelector('#df-f9c3e897-aa02-4f16-8ad7-14a96c496c0f button.colab-df-convert');\n",
              "        buttonEl.style.display =\n",
              "          google.colab.kernel.accessAllowed ? 'block' : 'none';\n",
              "\n",
              "        async function convertToInteractive(key) {\n",
              "          const element = document.querySelector('#df-f9c3e897-aa02-4f16-8ad7-14a96c496c0f');\n",
              "          const dataTable =\n",
              "            await google.colab.kernel.invokeFunction('convertToInteractive',\n",
              "                                                     [key], {});\n",
              "          if (!dataTable) return;\n",
              "\n",
              "          const docLinkHtml = 'Like what you see? Visit the ' +\n",
              "            '<a target=\"_blank\" href=https://colab.research.google.com/notebooks/data_table.ipynb>data table notebook</a>'\n",
              "            + ' to learn more about interactive tables.';\n",
              "          element.innerHTML = '';\n",
              "          dataTable['output_type'] = 'display_data';\n",
              "          await google.colab.output.renderOutput(dataTable, element);\n",
              "          const docLink = document.createElement('div');\n",
              "          docLink.innerHTML = docLinkHtml;\n",
              "          element.appendChild(docLink);\n",
              "        }\n",
              "      </script>\n",
              "    </div>\n",
              "  </div>\n",
              "  "
            ]
          },
          "metadata": {},
          "execution_count": 17
        }
      ]
    },
    {
      "metadata": {
        "trusted": true,
        "id": "4GNB8aY2OW0U",
        "outputId": "8147d31f-4864-42f4-82b0-17e7bc7ab8af",
        "colab": {
          "base_uri": "https://localhost:8080/"
        }
      },
      "cell_type": "code",
      "source": [
        "# The features matrix has 35 features\n",
        "features.shape"
      ],
      "execution_count": 18,
      "outputs": [
        {
          "output_type": "execute_result",
          "data": {
            "text/plain": [
              "(35, 2)"
            ]
          },
          "metadata": {},
          "execution_count": 18
        }
      ]
    },
    {
      "metadata": {
        "id": "yi-x-s7eOW0Y"
      },
      "cell_type": "markdown",
      "source": [
        "To arrive at Feature Score for each house, we need to calculate dot product between the features matrix and the features binaries. Before this, we need to <b><u>subset a features matrix</u></b> from the kolkata dataset"
      ]
    },
    {
      "metadata": {
        "trusted": true,
        "id": "69siEeIdOW0c"
      },
      "cell_type": "code",
      "source": [
        "features_matrix = kolkata[['MaintenanceStaff', 'Gymnasium', 'SwimmingPool',\n",
        "       'LandscapedGardens', 'JoggingTrack', 'RainWaterHarvesting',\n",
        "       'IndoorGames', 'ShoppingMall', 'Intercom', 'SportsFacility', 'ATM',\n",
        "       'ClubHouse', 'School', '24X7Security', 'PowerBackup', 'CarParking',\n",
        "       'StaffQuarter', 'Cafeteria', 'MultipurposeRoom', 'Hospital',\n",
        "       'WashingMachine', 'Gasconnection', 'AC', 'Wifi', 'PlayArea',\n",
        "       'LiftAvailable', 'BED', 'VaastuCompliant', 'Microwave',\n",
        "       'GolfCourse', 'TV', 'DiningTable', 'Sofa', 'Wardrobe',\n",
        "       'Refrigerator']]"
      ],
      "execution_count": 19,
      "outputs": []
    },
    {
      "metadata": {
        "trusted": true,
        "id": "fcyQYbsnOW0h",
        "outputId": "afbd2c29-454d-43dc-8b5e-0d1b77e25c62",
        "colab": {
          "base_uri": "https://localhost:8080/",
          "height": 300
        }
      },
      "cell_type": "code",
      "source": [
        "features_matrix.tail()"
      ],
      "execution_count": 20,
      "outputs": [
        {
          "output_type": "execute_result",
          "data": {
            "text/plain": [
              "      MaintenanceStaff  Gymnasium  SwimmingPool  LandscapedGardens  \\\n",
              "6502                 9          9             9                  9   \n",
              "6503                 9          9             9                  9   \n",
              "6504                 9          9             9                  9   \n",
              "6505                 9          9             9                  9   \n",
              "6506                 9          9             9                  9   \n",
              "\n",
              "      JoggingTrack  RainWaterHarvesting  IndoorGames  ShoppingMall  Intercom  \\\n",
              "6502             9                    9            9             9         9   \n",
              "6503             9                    9            9             9         9   \n",
              "6504             9                    9            9             9         9   \n",
              "6505             9                    9            9             9         9   \n",
              "6506             9                    9            9             9         9   \n",
              "\n",
              "      SportsFacility  ...  LiftAvailable  BED  VaastuCompliant  Microwave  \\\n",
              "6502               9  ...              9    9                9          9   \n",
              "6503               9  ...              9    9                9          9   \n",
              "6504               9  ...              9    9                9          9   \n",
              "6505               9  ...              9    9                9          9   \n",
              "6506               9  ...              9    9                9          9   \n",
              "\n",
              "      GolfCourse  TV  DiningTable  Sofa  Wardrobe  Refrigerator  \n",
              "6502           9   9            9     9         9             9  \n",
              "6503           9   9            9     9         9             9  \n",
              "6504           9   9            9     9         9             9  \n",
              "6505           9   9            9     9         9             9  \n",
              "6506           9   9            9     9         9             9  \n",
              "\n",
              "[5 rows x 35 columns]"
            ],
            "text/html": [
              "\n",
              "  <div id=\"df-e8741140-28de-46c3-94f4-1d5f4cdc6b0c\">\n",
              "    <div class=\"colab-df-container\">\n",
              "      <div>\n",
              "<style scoped>\n",
              "    .dataframe tbody tr th:only-of-type {\n",
              "        vertical-align: middle;\n",
              "    }\n",
              "\n",
              "    .dataframe tbody tr th {\n",
              "        vertical-align: top;\n",
              "    }\n",
              "\n",
              "    .dataframe thead th {\n",
              "        text-align: right;\n",
              "    }\n",
              "</style>\n",
              "<table border=\"1\" class=\"dataframe\">\n",
              "  <thead>\n",
              "    <tr style=\"text-align: right;\">\n",
              "      <th></th>\n",
              "      <th>MaintenanceStaff</th>\n",
              "      <th>Gymnasium</th>\n",
              "      <th>SwimmingPool</th>\n",
              "      <th>LandscapedGardens</th>\n",
              "      <th>JoggingTrack</th>\n",
              "      <th>RainWaterHarvesting</th>\n",
              "      <th>IndoorGames</th>\n",
              "      <th>ShoppingMall</th>\n",
              "      <th>Intercom</th>\n",
              "      <th>SportsFacility</th>\n",
              "      <th>...</th>\n",
              "      <th>LiftAvailable</th>\n",
              "      <th>BED</th>\n",
              "      <th>VaastuCompliant</th>\n",
              "      <th>Microwave</th>\n",
              "      <th>GolfCourse</th>\n",
              "      <th>TV</th>\n",
              "      <th>DiningTable</th>\n",
              "      <th>Sofa</th>\n",
              "      <th>Wardrobe</th>\n",
              "      <th>Refrigerator</th>\n",
              "    </tr>\n",
              "  </thead>\n",
              "  <tbody>\n",
              "    <tr>\n",
              "      <th>6502</th>\n",
              "      <td>9</td>\n",
              "      <td>9</td>\n",
              "      <td>9</td>\n",
              "      <td>9</td>\n",
              "      <td>9</td>\n",
              "      <td>9</td>\n",
              "      <td>9</td>\n",
              "      <td>9</td>\n",
              "      <td>9</td>\n",
              "      <td>9</td>\n",
              "      <td>...</td>\n",
              "      <td>9</td>\n",
              "      <td>9</td>\n",
              "      <td>9</td>\n",
              "      <td>9</td>\n",
              "      <td>9</td>\n",
              "      <td>9</td>\n",
              "      <td>9</td>\n",
              "      <td>9</td>\n",
              "      <td>9</td>\n",
              "      <td>9</td>\n",
              "    </tr>\n",
              "    <tr>\n",
              "      <th>6503</th>\n",
              "      <td>9</td>\n",
              "      <td>9</td>\n",
              "      <td>9</td>\n",
              "      <td>9</td>\n",
              "      <td>9</td>\n",
              "      <td>9</td>\n",
              "      <td>9</td>\n",
              "      <td>9</td>\n",
              "      <td>9</td>\n",
              "      <td>9</td>\n",
              "      <td>...</td>\n",
              "      <td>9</td>\n",
              "      <td>9</td>\n",
              "      <td>9</td>\n",
              "      <td>9</td>\n",
              "      <td>9</td>\n",
              "      <td>9</td>\n",
              "      <td>9</td>\n",
              "      <td>9</td>\n",
              "      <td>9</td>\n",
              "      <td>9</td>\n",
              "    </tr>\n",
              "    <tr>\n",
              "      <th>6504</th>\n",
              "      <td>9</td>\n",
              "      <td>9</td>\n",
              "      <td>9</td>\n",
              "      <td>9</td>\n",
              "      <td>9</td>\n",
              "      <td>9</td>\n",
              "      <td>9</td>\n",
              "      <td>9</td>\n",
              "      <td>9</td>\n",
              "      <td>9</td>\n",
              "      <td>...</td>\n",
              "      <td>9</td>\n",
              "      <td>9</td>\n",
              "      <td>9</td>\n",
              "      <td>9</td>\n",
              "      <td>9</td>\n",
              "      <td>9</td>\n",
              "      <td>9</td>\n",
              "      <td>9</td>\n",
              "      <td>9</td>\n",
              "      <td>9</td>\n",
              "    </tr>\n",
              "    <tr>\n",
              "      <th>6505</th>\n",
              "      <td>9</td>\n",
              "      <td>9</td>\n",
              "      <td>9</td>\n",
              "      <td>9</td>\n",
              "      <td>9</td>\n",
              "      <td>9</td>\n",
              "      <td>9</td>\n",
              "      <td>9</td>\n",
              "      <td>9</td>\n",
              "      <td>9</td>\n",
              "      <td>...</td>\n",
              "      <td>9</td>\n",
              "      <td>9</td>\n",
              "      <td>9</td>\n",
              "      <td>9</td>\n",
              "      <td>9</td>\n",
              "      <td>9</td>\n",
              "      <td>9</td>\n",
              "      <td>9</td>\n",
              "      <td>9</td>\n",
              "      <td>9</td>\n",
              "    </tr>\n",
              "    <tr>\n",
              "      <th>6506</th>\n",
              "      <td>9</td>\n",
              "      <td>9</td>\n",
              "      <td>9</td>\n",
              "      <td>9</td>\n",
              "      <td>9</td>\n",
              "      <td>9</td>\n",
              "      <td>9</td>\n",
              "      <td>9</td>\n",
              "      <td>9</td>\n",
              "      <td>9</td>\n",
              "      <td>...</td>\n",
              "      <td>9</td>\n",
              "      <td>9</td>\n",
              "      <td>9</td>\n",
              "      <td>9</td>\n",
              "      <td>9</td>\n",
              "      <td>9</td>\n",
              "      <td>9</td>\n",
              "      <td>9</td>\n",
              "      <td>9</td>\n",
              "      <td>9</td>\n",
              "    </tr>\n",
              "  </tbody>\n",
              "</table>\n",
              "<p>5 rows × 35 columns</p>\n",
              "</div>\n",
              "      <button class=\"colab-df-convert\" onclick=\"convertToInteractive('df-e8741140-28de-46c3-94f4-1d5f4cdc6b0c')\"\n",
              "              title=\"Convert this dataframe to an interactive table.\"\n",
              "              style=\"display:none;\">\n",
              "        \n",
              "  <svg xmlns=\"http://www.w3.org/2000/svg\" height=\"24px\"viewBox=\"0 0 24 24\"\n",
              "       width=\"24px\">\n",
              "    <path d=\"M0 0h24v24H0V0z\" fill=\"none\"/>\n",
              "    <path d=\"M18.56 5.44l.94 2.06.94-2.06 2.06-.94-2.06-.94-.94-2.06-.94 2.06-2.06.94zm-11 1L8.5 8.5l.94-2.06 2.06-.94-2.06-.94L8.5 2.5l-.94 2.06-2.06.94zm10 10l.94 2.06.94-2.06 2.06-.94-2.06-.94-.94-2.06-.94 2.06-2.06.94z\"/><path d=\"M17.41 7.96l-1.37-1.37c-.4-.4-.92-.59-1.43-.59-.52 0-1.04.2-1.43.59L10.3 9.45l-7.72 7.72c-.78.78-.78 2.05 0 2.83L4 21.41c.39.39.9.59 1.41.59.51 0 1.02-.2 1.41-.59l7.78-7.78 2.81-2.81c.8-.78.8-2.07 0-2.86zM5.41 20L4 18.59l7.72-7.72 1.47 1.35L5.41 20z\"/>\n",
              "  </svg>\n",
              "      </button>\n",
              "      \n",
              "  <style>\n",
              "    .colab-df-container {\n",
              "      display:flex;\n",
              "      flex-wrap:wrap;\n",
              "      gap: 12px;\n",
              "    }\n",
              "\n",
              "    .colab-df-convert {\n",
              "      background-color: #E8F0FE;\n",
              "      border: none;\n",
              "      border-radius: 50%;\n",
              "      cursor: pointer;\n",
              "      display: none;\n",
              "      fill: #1967D2;\n",
              "      height: 32px;\n",
              "      padding: 0 0 0 0;\n",
              "      width: 32px;\n",
              "    }\n",
              "\n",
              "    .colab-df-convert:hover {\n",
              "      background-color: #E2EBFA;\n",
              "      box-shadow: 0px 1px 2px rgba(60, 64, 67, 0.3), 0px 1px 3px 1px rgba(60, 64, 67, 0.15);\n",
              "      fill: #174EA6;\n",
              "    }\n",
              "\n",
              "    [theme=dark] .colab-df-convert {\n",
              "      background-color: #3B4455;\n",
              "      fill: #D2E3FC;\n",
              "    }\n",
              "\n",
              "    [theme=dark] .colab-df-convert:hover {\n",
              "      background-color: #434B5C;\n",
              "      box-shadow: 0px 1px 3px 1px rgba(0, 0, 0, 0.15);\n",
              "      filter: drop-shadow(0px 1px 2px rgba(0, 0, 0, 0.3));\n",
              "      fill: #FFFFFF;\n",
              "    }\n",
              "  </style>\n",
              "\n",
              "      <script>\n",
              "        const buttonEl =\n",
              "          document.querySelector('#df-e8741140-28de-46c3-94f4-1d5f4cdc6b0c button.colab-df-convert');\n",
              "        buttonEl.style.display =\n",
              "          google.colab.kernel.accessAllowed ? 'block' : 'none';\n",
              "\n",
              "        async function convertToInteractive(key) {\n",
              "          const element = document.querySelector('#df-e8741140-28de-46c3-94f4-1d5f4cdc6b0c');\n",
              "          const dataTable =\n",
              "            await google.colab.kernel.invokeFunction('convertToInteractive',\n",
              "                                                     [key], {});\n",
              "          if (!dataTable) return;\n",
              "\n",
              "          const docLinkHtml = 'Like what you see? Visit the ' +\n",
              "            '<a target=\"_blank\" href=https://colab.research.google.com/notebooks/data_table.ipynb>data table notebook</a>'\n",
              "            + ' to learn more about interactive tables.';\n",
              "          element.innerHTML = '';\n",
              "          dataTable['output_type'] = 'display_data';\n",
              "          await google.colab.output.renderOutput(dataTable, element);\n",
              "          const docLink = document.createElement('div');\n",
              "          docLink.innerHTML = docLinkHtml;\n",
              "          element.appendChild(docLink);\n",
              "        }\n",
              "      </script>\n",
              "    </div>\n",
              "  </div>\n",
              "  "
            ]
          },
          "metadata": {},
          "execution_count": 20
        }
      ]
    },
    {
      "metadata": {
        "id": "vDA3obFmOW0k"
      },
      "cell_type": "markdown",
      "source": [
        "Some examination (not shown here) revelas that the features matrix contains (0, 1, 9) as values. I would assume that 9 represents NaN. Let us replace all 9s by 0s"
      ]
    },
    {
      "metadata": {
        "trusted": true,
        "id": "VIwO3fFTOW0m",
        "outputId": "ce6c63f7-3a12-4001-aa07-73f91d24003f",
        "colab": {
          "base_uri": "https://localhost:8080/"
        }
      },
      "cell_type": "code",
      "source": [
        "features_matrix.replace(9, 0, inplace=True)"
      ],
      "execution_count": 21,
      "outputs": [
        {
          "output_type": "stream",
          "name": "stderr",
          "text": [
            "<ipython-input-21-e3e9540d43cc>:1: SettingWithCopyWarning: \n",
            "A value is trying to be set on a copy of a slice from a DataFrame\n",
            "\n",
            "See the caveats in the documentation: https://pandas.pydata.org/pandas-docs/stable/user_guide/indexing.html#returning-a-view-versus-a-copy\n",
            "  features_matrix.replace(9, 0, inplace=True)\n"
          ]
        }
      ]
    },
    {
      "metadata": {
        "trusted": true,
        "id": "EGSo8q7xOW0p",
        "outputId": "d1feacc5-6a6a-4fdc-a0b4-4b7844c278e7",
        "colab": {
          "base_uri": "https://localhost:8080/"
        }
      },
      "cell_type": "code",
      "source": [
        "features_matrix.shape"
      ],
      "execution_count": 22,
      "outputs": [
        {
          "output_type": "execute_result",
          "data": {
            "text/plain": [
              "(6507, 35)"
            ]
          },
          "metadata": {},
          "execution_count": 22
        }
      ]
    },
    {
      "metadata": {
        "id": "Wk6UOpB1OW0u"
      },
      "cell_type": "markdown",
      "source": [
        "We will now compute <b>dot product</b> between the \"features_matrix\" <b>(shape = 4453 x 35)</b> and 'Weight' column of the \"features\" dataframe <b>(shape = 35 x 1)</b>. This will result in a column vector of shape <b>4453 x 1</b> and is nothing but the FeatureScore for each house. We will then join this resulting vector with the kolkata dataframe"
      ]
    },
    {
      "metadata": {
        "trusted": true,
        "id": "_nFVY4TpOW0w"
      },
      "cell_type": "code",
      "source": [
        "# apply dot product to compute feature score for every row\n",
        "feature_scores_df = np.dot(features_matrix, features['Weight'])"
      ],
      "execution_count": 23,
      "outputs": []
    },
    {
      "metadata": {
        "trusted": true,
        "id": "B9LW8bx-OW0z"
      },
      "cell_type": "code",
      "source": [
        "# join feature scores column with kolkata dataframe\n",
        "kolkata['FeatureScore'] = feature_scores_df"
      ],
      "execution_count": 24,
      "outputs": []
    },
    {
      "metadata": {
        "trusted": true,
        "id": "Pg4XqBY3OW02",
        "outputId": "a7f63ceb-3aa7-4111-c890-e99f0ad7ef81",
        "colab": {
          "base_uri": "https://localhost:8080/",
          "height": 237
        }
      },
      "cell_type": "code",
      "source": [
        "kolkata.head(3)"
      ],
      "execution_count": 25,
      "outputs": [
        {
          "output_type": "execute_result",
          "data": {
            "text/plain": [
              "     Price  Area   Location  Bedrooms  Resale  MaintenanceStaff  Gymnasium  \\\n",
              "0  2235000  1016    Barasat         3       0                 0          1   \n",
              "1  3665999  1111  Keshtopur         2       0                 1          1   \n",
              "2  3774000  1020   Rajarhat         2       0                 0          1   \n",
              "\n",
              "   SwimmingPool  LandscapedGardens  JoggingTrack  ...  VaastuCompliant  \\\n",
              "0             1                  1             1  ...                0   \n",
              "1             0                  1             1  ...                0   \n",
              "2             0                  0             0  ...                0   \n",
              "\n",
              "   Microwave  GolfCourse  TV  DiningTable  Sofa  Wardrobe  Refrigerator  \\\n",
              "0          0           0   0            0     0         0             0   \n",
              "1          0           0   0            0     0         0             0   \n",
              "2          0           0   0            0     0         0             0   \n",
              "\n",
              "      PricePSF  FeatureScore  \n",
              "0  2199.803150            27  \n",
              "1  3299.729073            22  \n",
              "2  3700.000000             9  \n",
              "\n",
              "[3 rows x 42 columns]"
            ],
            "text/html": [
              "\n",
              "  <div id=\"df-80dd24b9-ce92-4057-8340-6caeaa39cb63\">\n",
              "    <div class=\"colab-df-container\">\n",
              "      <div>\n",
              "<style scoped>\n",
              "    .dataframe tbody tr th:only-of-type {\n",
              "        vertical-align: middle;\n",
              "    }\n",
              "\n",
              "    .dataframe tbody tr th {\n",
              "        vertical-align: top;\n",
              "    }\n",
              "\n",
              "    .dataframe thead th {\n",
              "        text-align: right;\n",
              "    }\n",
              "</style>\n",
              "<table border=\"1\" class=\"dataframe\">\n",
              "  <thead>\n",
              "    <tr style=\"text-align: right;\">\n",
              "      <th></th>\n",
              "      <th>Price</th>\n",
              "      <th>Area</th>\n",
              "      <th>Location</th>\n",
              "      <th>Bedrooms</th>\n",
              "      <th>Resale</th>\n",
              "      <th>MaintenanceStaff</th>\n",
              "      <th>Gymnasium</th>\n",
              "      <th>SwimmingPool</th>\n",
              "      <th>LandscapedGardens</th>\n",
              "      <th>JoggingTrack</th>\n",
              "      <th>...</th>\n",
              "      <th>VaastuCompliant</th>\n",
              "      <th>Microwave</th>\n",
              "      <th>GolfCourse</th>\n",
              "      <th>TV</th>\n",
              "      <th>DiningTable</th>\n",
              "      <th>Sofa</th>\n",
              "      <th>Wardrobe</th>\n",
              "      <th>Refrigerator</th>\n",
              "      <th>PricePSF</th>\n",
              "      <th>FeatureScore</th>\n",
              "    </tr>\n",
              "  </thead>\n",
              "  <tbody>\n",
              "    <tr>\n",
              "      <th>0</th>\n",
              "      <td>2235000</td>\n",
              "      <td>1016</td>\n",
              "      <td>Barasat</td>\n",
              "      <td>3</td>\n",
              "      <td>0</td>\n",
              "      <td>0</td>\n",
              "      <td>1</td>\n",
              "      <td>1</td>\n",
              "      <td>1</td>\n",
              "      <td>1</td>\n",
              "      <td>...</td>\n",
              "      <td>0</td>\n",
              "      <td>0</td>\n",
              "      <td>0</td>\n",
              "      <td>0</td>\n",
              "      <td>0</td>\n",
              "      <td>0</td>\n",
              "      <td>0</td>\n",
              "      <td>0</td>\n",
              "      <td>2199.803150</td>\n",
              "      <td>27</td>\n",
              "    </tr>\n",
              "    <tr>\n",
              "      <th>1</th>\n",
              "      <td>3665999</td>\n",
              "      <td>1111</td>\n",
              "      <td>Keshtopur</td>\n",
              "      <td>2</td>\n",
              "      <td>0</td>\n",
              "      <td>1</td>\n",
              "      <td>1</td>\n",
              "      <td>0</td>\n",
              "      <td>1</td>\n",
              "      <td>1</td>\n",
              "      <td>...</td>\n",
              "      <td>0</td>\n",
              "      <td>0</td>\n",
              "      <td>0</td>\n",
              "      <td>0</td>\n",
              "      <td>0</td>\n",
              "      <td>0</td>\n",
              "      <td>0</td>\n",
              "      <td>0</td>\n",
              "      <td>3299.729073</td>\n",
              "      <td>22</td>\n",
              "    </tr>\n",
              "    <tr>\n",
              "      <th>2</th>\n",
              "      <td>3774000</td>\n",
              "      <td>1020</td>\n",
              "      <td>Rajarhat</td>\n",
              "      <td>2</td>\n",
              "      <td>0</td>\n",
              "      <td>0</td>\n",
              "      <td>1</td>\n",
              "      <td>0</td>\n",
              "      <td>0</td>\n",
              "      <td>0</td>\n",
              "      <td>...</td>\n",
              "      <td>0</td>\n",
              "      <td>0</td>\n",
              "      <td>0</td>\n",
              "      <td>0</td>\n",
              "      <td>0</td>\n",
              "      <td>0</td>\n",
              "      <td>0</td>\n",
              "      <td>0</td>\n",
              "      <td>3700.000000</td>\n",
              "      <td>9</td>\n",
              "    </tr>\n",
              "  </tbody>\n",
              "</table>\n",
              "<p>3 rows × 42 columns</p>\n",
              "</div>\n",
              "      <button class=\"colab-df-convert\" onclick=\"convertToInteractive('df-80dd24b9-ce92-4057-8340-6caeaa39cb63')\"\n",
              "              title=\"Convert this dataframe to an interactive table.\"\n",
              "              style=\"display:none;\">\n",
              "        \n",
              "  <svg xmlns=\"http://www.w3.org/2000/svg\" height=\"24px\"viewBox=\"0 0 24 24\"\n",
              "       width=\"24px\">\n",
              "    <path d=\"M0 0h24v24H0V0z\" fill=\"none\"/>\n",
              "    <path d=\"M18.56 5.44l.94 2.06.94-2.06 2.06-.94-2.06-.94-.94-2.06-.94 2.06-2.06.94zm-11 1L8.5 8.5l.94-2.06 2.06-.94-2.06-.94L8.5 2.5l-.94 2.06-2.06.94zm10 10l.94 2.06.94-2.06 2.06-.94-2.06-.94-.94-2.06-.94 2.06-2.06.94z\"/><path d=\"M17.41 7.96l-1.37-1.37c-.4-.4-.92-.59-1.43-.59-.52 0-1.04.2-1.43.59L10.3 9.45l-7.72 7.72c-.78.78-.78 2.05 0 2.83L4 21.41c.39.39.9.59 1.41.59.51 0 1.02-.2 1.41-.59l7.78-7.78 2.81-2.81c.8-.78.8-2.07 0-2.86zM5.41 20L4 18.59l7.72-7.72 1.47 1.35L5.41 20z\"/>\n",
              "  </svg>\n",
              "      </button>\n",
              "      \n",
              "  <style>\n",
              "    .colab-df-container {\n",
              "      display:flex;\n",
              "      flex-wrap:wrap;\n",
              "      gap: 12px;\n",
              "    }\n",
              "\n",
              "    .colab-df-convert {\n",
              "      background-color: #E8F0FE;\n",
              "      border: none;\n",
              "      border-radius: 50%;\n",
              "      cursor: pointer;\n",
              "      display: none;\n",
              "      fill: #1967D2;\n",
              "      height: 32px;\n",
              "      padding: 0 0 0 0;\n",
              "      width: 32px;\n",
              "    }\n",
              "\n",
              "    .colab-df-convert:hover {\n",
              "      background-color: #E2EBFA;\n",
              "      box-shadow: 0px 1px 2px rgba(60, 64, 67, 0.3), 0px 1px 3px 1px rgba(60, 64, 67, 0.15);\n",
              "      fill: #174EA6;\n",
              "    }\n",
              "\n",
              "    [theme=dark] .colab-df-convert {\n",
              "      background-color: #3B4455;\n",
              "      fill: #D2E3FC;\n",
              "    }\n",
              "\n",
              "    [theme=dark] .colab-df-convert:hover {\n",
              "      background-color: #434B5C;\n",
              "      box-shadow: 0px 1px 3px 1px rgba(0, 0, 0, 0.15);\n",
              "      filter: drop-shadow(0px 1px 2px rgba(0, 0, 0, 0.3));\n",
              "      fill: #FFFFFF;\n",
              "    }\n",
              "  </style>\n",
              "\n",
              "      <script>\n",
              "        const buttonEl =\n",
              "          document.querySelector('#df-80dd24b9-ce92-4057-8340-6caeaa39cb63 button.colab-df-convert');\n",
              "        buttonEl.style.display =\n",
              "          google.colab.kernel.accessAllowed ? 'block' : 'none';\n",
              "\n",
              "        async function convertToInteractive(key) {\n",
              "          const element = document.querySelector('#df-80dd24b9-ce92-4057-8340-6caeaa39cb63');\n",
              "          const dataTable =\n",
              "            await google.colab.kernel.invokeFunction('convertToInteractive',\n",
              "                                                     [key], {});\n",
              "          if (!dataTable) return;\n",
              "\n",
              "          const docLinkHtml = 'Like what you see? Visit the ' +\n",
              "            '<a target=\"_blank\" href=https://colab.research.google.com/notebooks/data_table.ipynb>data table notebook</a>'\n",
              "            + ' to learn more about interactive tables.';\n",
              "          element.innerHTML = '';\n",
              "          dataTable['output_type'] = 'display_data';\n",
              "          await google.colab.output.renderOutput(dataTable, element);\n",
              "          const docLink = document.createElement('div');\n",
              "          docLink.innerHTML = docLinkHtml;\n",
              "          element.appendChild(docLink);\n",
              "        }\n",
              "      </script>\n",
              "    </div>\n",
              "  </div>\n",
              "  "
            ]
          },
          "metadata": {},
          "execution_count": 25
        }
      ]
    },
    {
      "metadata": {
        "id": "YnT73wDpOW04"
      },
      "cell_type": "markdown",
      "source": [
        "We have now reduced the number of features on which to run our regression model. These are:\n",
        "\n",
        "1. Area (numeric)\n",
        "2. Location (string). In next section I will propose a way to tackle this.\n",
        "3. Bedrooms (numeric)\n",
        "4. Feature Score (numeric)\n",
        "4. Resale (boolean)\n",
        "\n",
        "<b>Before we proceed let us check if our numerical features have any colinearity</b>"
      ]
    },
    {
      "metadata": {
        "trusted": true,
        "id": "45ZeMjt9OW06",
        "outputId": "f111db88-e9f7-4da2-91c2-98fcc7c6f04b",
        "colab": {
          "base_uri": "https://localhost:8080/",
          "height": 261
        }
      },
      "cell_type": "code",
      "source": [
        "corr_df = kolkata[['Area', 'Resale', 'Bedrooms', 'FeatureScore', 'Price']]\n",
        "sns.heatmap(corr_df.corr(method='pearson'), cmap='RdYlGn_r', linewidths=2)"
      ],
      "execution_count": 26,
      "outputs": [
        {
          "output_type": "execute_result",
          "data": {
            "text/plain": [
              "<Axes: >"
            ]
          },
          "metadata": {},
          "execution_count": 26
        },
        {
          "output_type": "display_data",
          "data": {
            "text/plain": [
              "<Figure size 640x480 with 2 Axes>"
            ],
            "image/png": "[encoded data removed]"
          },
          "metadata": {}
        }
      ]
    },
    {
      "metadata": {
        "id": "DJfiRMQJOW0_"
      },
      "cell_type": "markdown",
      "source": [
        "<h3>Observations</h3>\n",
        "\n",
        "1. We can see that <b>Area and Bedrooms are somewhat correlated</b>. This is not surprising as houses with larger area will tend to have more bedrooms and vice versa.\n",
        "2. Area has a stronger correlation with Price compared to Bedrooms. If forced to make a choice, we should drop bedrooms to avoid colinearity\n",
        "3. Interestingly FeatureScore does not seem to be correlated to Price. However, remember that the feature weights were my arbitrary choice and may be wrong. An industry expert can help here. For this analysis we will retain FeatureScore in our model\n",
        "\n",
        "<h3>Let us now explore how we can model Location as a numeric feature</h3>"
      ]
    },
    {
      "metadata": {
        "trusted": true,
        "id": "6PaziCtPOW1B"
      },
      "cell_type": "code",
      "source": [
        "# Create a pivot table of Locations with PricePSF as the value\n",
        "location_pivot = pd.pivot_table(data=kolkata, index='Location', aggfunc='mean', values='PricePSF')"
      ],
      "execution_count": 27,
      "outputs": []
    },
    {
      "metadata": {
        "trusted": true,
        "id": "hwybimhbOW1c",
        "outputId": "0b9e0fca-c9e0-420a-f94f-8760770453a6",
        "colab": {
          "base_uri": "https://localhost:8080/",
          "height": 516
        }
      },
      "cell_type": "code",
      "source": [
        "location_pivot"
      ],
      "execution_count": 28,
      "outputs": [
        {
          "output_type": "execute_result",
          "data": {
            "text/plain": [
              "                                       PricePSF\n",
              "Location                                       \n",
              "Acharya Jagadish Chandra Bose Road  7058.823529\n",
              "Action Area I                       3221.710722\n",
              "Action Area I Newtown               3137.840611\n",
              "Action Area II Newtown              6225.525856\n",
              "Action Area IIB Newtown             5134.482759\n",
              "...                                         ...\n",
              "purbalok                            4865.384615\n",
              "raghunathpur                        6968.750000\n",
              "salt lake sec iii                   4541.771926\n",
              "shalimar                            5039.880086\n",
              "south dum dum                       4110.108216\n",
              "\n",
              "[308 rows x 1 columns]"
            ],
            "text/html": [
              "\n",
              "  <div id=\"df-9a3f12e6-7c58-44ed-bd34-3e829b64eb82\">\n",
              "    <div class=\"colab-df-container\">\n",
              "      <div>\n",
              "<style scoped>\n",
              "    .dataframe tbody tr th:only-of-type {\n",
              "        vertical-align: middle;\n",
              "    }\n",
              "\n",
              "    .dataframe tbody tr th {\n",
              "        vertical-align: top;\n",
              "    }\n",
              "\n",
              "    .dataframe thead th {\n",
              "        text-align: right;\n",
              "    }\n",
              "</style>\n",
              "<table border=\"1\" class=\"dataframe\">\n",
              "  <thead>\n",
              "    <tr style=\"text-align: right;\">\n",
              "      <th></th>\n",
              "      <th>PricePSF</th>\n",
              "    </tr>\n",
              "    <tr>\n",
              "      <th>Location</th>\n",
              "      <th></th>\n",
              "    </tr>\n",
              "  </thead>\n",
              "  <tbody>\n",
              "    <tr>\n",
              "      <th>Acharya Jagadish Chandra Bose Road</th>\n",
              "      <td>7058.823529</td>\n",
              "    </tr>\n",
              "    <tr>\n",
              "      <th>Action Area I</th>\n",
              "      <td>3221.710722</td>\n",
              "    </tr>\n",
              "    <tr>\n",
              "      <th>Action Area I Newtown</th>\n",
              "      <td>3137.840611</td>\n",
              "    </tr>\n",
              "    <tr>\n",
              "      <th>Action Area II Newtown</th>\n",
              "      <td>6225.525856</td>\n",
              "    </tr>\n",
              "    <tr>\n",
              "      <th>Action Area IIB Newtown</th>\n",
              "      <td>5134.482759</td>\n",
              "    </tr>\n",
              "    <tr>\n",
              "      <th>...</th>\n",
              "      <td>...</td>\n",
              "    </tr>\n",
              "    <tr>\n",
              "      <th>purbalok</th>\n",
              "      <td>4865.384615</td>\n",
              "    </tr>\n",
              "    <tr>\n",
              "      <th>raghunathpur</th>\n",
              "      <td>6968.750000</td>\n",
              "    </tr>\n",
              "    <tr>\n",
              "      <th>salt lake sec iii</th>\n",
              "      <td>4541.771926</td>\n",
              "    </tr>\n",
              "    <tr>\n",
              "      <th>shalimar</th>\n",
              "      <td>5039.880086</td>\n",
              "    </tr>\n",
              "    <tr>\n",
              "      <th>south dum dum</th>\n",
              "      <td>4110.108216</td>\n",
              "    </tr>\n",
              "  </tbody>\n",
              "</table>\n",
              "<p>308 rows × 1 columns</p>\n",
              "</div>\n",
              "      <button class=\"colab-df-convert\" onclick=\"convertToInteractive('df-9a3f12e6-7c58-44ed-bd34-3e829b64eb82')\"\n",
              "              title=\"Convert this dataframe to an interactive table.\"\n",
              "              style=\"display:none;\">\n",
              "        \n",
              "  <svg xmlns=\"http://www.w3.org/2000/svg\" height=\"24px\"viewBox=\"0 0 24 24\"\n",
              "       width=\"24px\">\n",
              "    <path d=\"M0 0h24v24H0V0z\" fill=\"none\"/>\n",
              "    <path d=\"M18.56 5.44l.94 2.06.94-2.06 2.06-.94-2.06-.94-.94-2.06-.94 2.06-2.06.94zm-11 1L8.5 8.5l.94-2.06 2.06-.94-2.06-.94L8.5 2.5l-.94 2.06-2.06.94zm10 10l.94 2.06.94-2.06 2.06-.94-2.06-.94-.94-2.06-.94 2.06-2.06.94z\"/><path d=\"M17.41 7.96l-1.37-1.37c-.4-.4-.92-.59-1.43-.59-.52 0-1.04.2-1.43.59L10.3 9.45l-7.72 7.72c-.78.78-.78 2.05 0 2.83L4 21.41c.39.39.9.59 1.41.59.51 0 1.02-.2 1.41-.59l7.78-7.78 2.81-2.81c.8-.78.8-2.07 0-2.86zM5.41 20L4 18.59l7.72-7.72 1.47 1.35L5.41 20z\"/>\n",
              "  </svg>\n",
              "      </button>\n",
              "      \n",
              "  <style>\n",
              "    .colab-df-container {\n",
              "      display:flex;\n",
              "      flex-wrap:wrap;\n",
              "      gap: 12px;\n",
              "    }\n",
              "\n",
              "    .colab-df-convert {\n",
              "      background-color: #E8F0FE;\n",
              "      border: none;\n",
              "      border-radius: 50%;\n",
              "      cursor: pointer;\n",
              "      display: none;\n",
              "      fill: #1967D2;\n",
              "      height: 32px;\n",
              "      padding: 0 0 0 0;\n",
              "      width: 32px;\n",
              "    }\n",
              "\n",
              "    .colab-df-convert:hover {\n",
              "      background-color: #E2EBFA;\n",
              "      box-shadow: 0px 1px 2px rgba(60, 64, 67, 0.3), 0px 1px 3px 1px rgba(60, 64, 67, 0.15);\n",
              "      fill: #174EA6;\n",
              "    }\n",
              "\n",
              "    [theme=dark] .colab-df-convert {\n",
              "      background-color: #3B4455;\n",
              "      fill: #D2E3FC;\n",
              "    }\n",
              "\n",
              "    [theme=dark] .colab-df-convert:hover {\n",
              "      background-color: #434B5C;\n",
              "      box-shadow: 0px 1px 3px 1px rgba(0, 0, 0, 0.15);\n",
              "      filter: drop-shadow(0px 1px 2px rgba(0, 0, 0, 0.3));\n",
              "      fill: #FFFFFF;\n",
              "    }\n",
              "  </style>\n",
              "\n",
              "      <script>\n",
              "        const buttonEl =\n",
              "          document.querySelector('#df-9a3f12e6-7c58-44ed-bd34-3e829b64eb82 button.colab-df-convert');\n",
              "        buttonEl.style.display =\n",
              "          google.colab.kernel.accessAllowed ? 'block' : 'none';\n",
              "\n",
              "        async function convertToInteractive(key) {\n",
              "          const element = document.querySelector('#df-9a3f12e6-7c58-44ed-bd34-3e829b64eb82');\n",
              "          const dataTable =\n",
              "            await google.colab.kernel.invokeFunction('convertToInteractive',\n",
              "                                                     [key], {});\n",
              "          if (!dataTable) return;\n",
              "\n",
              "          const docLinkHtml = 'Like what you see? Visit the ' +\n",
              "            '<a target=\"_blank\" href=https://colab.research.google.com/notebooks/data_table.ipynb>data table notebook</a>'\n",
              "            + ' to learn more about interactive tables.';\n",
              "          element.innerHTML = '';\n",
              "          dataTable['output_type'] = 'display_data';\n",
              "          await google.colab.output.renderOutput(dataTable, element);\n",
              "          const docLink = document.createElement('div');\n",
              "          docLink.innerHTML = docLinkHtml;\n",
              "          element.appendChild(docLink);\n",
              "        }\n",
              "      </script>\n",
              "    </div>\n",
              "  </div>\n",
              "  "
            ]
          },
          "metadata": {},
          "execution_count": 28
        }
      ]
    },
    {
      "metadata": {
        "id": "qlTvTnzoOW1i"
      },
      "cell_type": "markdown",
      "source": [
        "<b>Location is one of the most important determinants of house price</b>. I tried **One Hot Encoding** to factor locations, but with disastrous results as there were too many locations with few observations. As a bit of feature engineering, I am going to calculate the 'Location Premium' for every Location. This is nothing but the PricePSF for every location divided by the minimum PricePSF. This sets the cheapest location as the base location (with a score of 1) and every other location has a premium as a multiple of that base location"
      ]
    },
    {
      "metadata": {
        "id": "gDdk0OStOW1l"
      },
      "cell_type": "markdown",
      "source": []
    },
    {
      "metadata": {
        "trusted": true,
        "id": "w4xRisT3OW1n"
      },
      "cell_type": "code",
      "source": [
        "location_pivot['LocationPremium'] = location_pivot['PricePSF'] / location_pivot['PricePSF'].min()"
      ],
      "execution_count": 29,
      "outputs": []
    },
    {
      "metadata": {
        "trusted": true,
        "id": "_LddjMofOW1p",
        "outputId": "38c0c6a2-150d-43d1-ac06-07de02b6946b",
        "colab": {
          "base_uri": "https://localhost:8080/",
          "height": 588
        }
      },
      "cell_type": "code",
      "source": [
        "location_pivot.sort_values('LocationPremium', ascending=False)"
      ],
      "execution_count": 30,
      "outputs": [
        {
          "output_type": "execute_result",
          "data": {
            "text/plain": [
              "                       PricePSF  LocationPremium\n",
              "Location                                        \n",
              "Bedia Danga Kasba  59375.000000       122.120527\n",
              "Mahamayatala       49922.727273       102.679406\n",
              "Barrackpore        48678.101517       100.119501\n",
              "Kalipark Kolkata   46567.164179        95.777796\n",
              "Selimpur Lane      37487.179487        77.102385\n",
              "...                         ...              ...\n",
              "Rabindra Sarovar    1804.201681         3.710822\n",
              "Sodepur Road        1454.545455         2.991661\n",
              "Kayastopara         1372.549020         2.823013\n",
              "C R Avenue          1100.000000         2.262443\n",
              "Sarat Bose Road      486.200000         1.000000\n",
              "\n",
              "[308 rows x 2 columns]"
            ],
            "text/html": [
              "\n",
              "  <div id=\"df-b1ecd1a0-0c16-43b6-95b9-513fc1e97faf\">\n",
              "    <div class=\"colab-df-container\">\n",
              "      <div>\n",
              "<style scoped>\n",
              "    .dataframe tbody tr th:only-of-type {\n",
              "        vertical-align: middle;\n",
              "    }\n",
              "\n",
              "    .dataframe tbody tr th {\n",
              "        vertical-align: top;\n",
              "    }\n",
              "\n",
              "    .dataframe thead th {\n",
              "        text-align: right;\n",
              "    }\n",
              "</style>\n",
              "<table border=\"1\" class=\"dataframe\">\n",
              "  <thead>\n",
              "    <tr style=\"text-align: right;\">\n",
              "      <th></th>\n",
              "      <th>PricePSF</th>\n",
              "      <th>LocationPremium</th>\n",
              "    </tr>\n",
              "    <tr>\n",
              "      <th>Location</th>\n",
              "      <th></th>\n",
              "      <th></th>\n",
              "    </tr>\n",
              "  </thead>\n",
              "  <tbody>\n",
              "    <tr>\n",
              "      <th>Bedia Danga Kasba</th>\n",
              "      <td>59375.000000</td>\n",
              "      <td>122.120527</td>\n",
              "    </tr>\n",
              "    <tr>\n",
              "      <th>Mahamayatala</th>\n",
              "      <td>49922.727273</td>\n",
              "      <td>102.679406</td>\n",
              "    </tr>\n",
              "    <tr>\n",
              "      <th>Barrackpore</th>\n",
              "      <td>48678.101517</td>\n",
              "      <td>100.119501</td>\n",
              "    </tr>\n",
              "    <tr>\n",
              "      <th>Kalipark Kolkata</th>\n",
              "      <td>46567.164179</td>\n",
              "      <td>95.777796</td>\n",
              "    </tr>\n",
              "    <tr>\n",
              "      <th>Selimpur Lane</th>\n",
              "      <td>37487.179487</td>\n",
              "      <td>77.102385</td>\n",
              "    </tr>\n",
              "    <tr>\n",
              "      <th>...</th>\n",
              "      <td>...</td>\n",
              "      <td>...</td>\n",
              "    </tr>\n",
              "    <tr>\n",
              "      <th>Rabindra Sarovar</th>\n",
              "      <td>1804.201681</td>\n",
              "      <td>3.710822</td>\n",
              "    </tr>\n",
              "    <tr>\n",
              "      <th>Sodepur Road</th>\n",
              "      <td>1454.545455</td>\n",
              "      <td>2.991661</td>\n",
              "    </tr>\n",
              "    <tr>\n",
              "      <th>Kayastopara</th>\n",
              "      <td>1372.549020</td>\n",
              "      <td>2.823013</td>\n",
              "    </tr>\n",
              "    <tr>\n",
              "      <th>C R Avenue</th>\n",
              "      <td>1100.000000</td>\n",
              "      <td>2.262443</td>\n",
              "    </tr>\n",
              "    <tr>\n",
              "      <th>Sarat Bose Road</th>\n",
              "      <td>486.200000</td>\n",
              "      <td>1.000000</td>\n",
              "    </tr>\n",
              "  </tbody>\n",
              "</table>\n",
              "<p>308 rows × 2 columns</p>\n",
              "</div>\n",
              "      <button class=\"colab-df-convert\" onclick=\"convertToInteractive('df-b1ecd1a0-0c16-43b6-95b9-513fc1e97faf')\"\n",
              "              title=\"Convert this dataframe to an interactive table.\"\n",
              "              style=\"display:none;\">\n",
              "        \n",
              "  <svg xmlns=\"http://www.w3.org/2000/svg\" height=\"24px\"viewBox=\"0 0 24 24\"\n",
              "       width=\"24px\">\n",
              "    <path d=\"M0 0h24v24H0V0z\" fill=\"none\"/>\n",
              "    <path d=\"M18.56 5.44l.94 2.06.94-2.06 2.06-.94-2.06-.94-.94-2.06-.94 2.06-2.06.94zm-11 1L8.5 8.5l.94-2.06 2.06-.94-2.06-.94L8.5 2.5l-.94 2.06-2.06.94zm10 10l.94 2.06.94-2.06 2.06-.94-2.06-.94-.94-2.06-.94 2.06-2.06.94z\"/><path d=\"M17.41 7.96l-1.37-1.37c-.4-.4-.92-.59-1.43-.59-.52 0-1.04.2-1.43.59L10.3 9.45l-7.72 7.72c-.78.78-.78 2.05 0 2.83L4 21.41c.39.39.9.59 1.41.59.51 0 1.02-.2 1.41-.59l7.78-7.78 2.81-2.81c.8-.78.8-2.07 0-2.86zM5.41 20L4 18.59l7.72-7.72 1.47 1.35L5.41 20z\"/>\n",
              "  </svg>\n",
              "      </button>\n",
              "      \n",
              "  <style>\n",
              "    .colab-df-container {\n",
              "      display:flex;\n",
              "      flex-wrap:wrap;\n",
              "      gap: 12px;\n",
              "    }\n",
              "\n",
              "    .colab-df-convert {\n",
              "      background-color: #E8F0FE;\n",
              "      border: none;\n",
              "      border-radius: 50%;\n",
              "      cursor: pointer;\n",
              "      display: none;\n",
              "      fill: #1967D2;\n",
              "      height: 32px;\n",
              "      padding: 0 0 0 0;\n",
              "      width: 32px;\n",
              "    }\n",
              "\n",
              "    .colab-df-convert:hover {\n",
              "      background-color: #E2EBFA;\n",
              "      box-shadow: 0px 1px 2px rgba(60, 64, 67, 0.3), 0px 1px 3px 1px rgba(60, 64, 67, 0.15);\n",
              "      fill: #174EA6;\n",
              "    }\n",
              "\n",
              "    [theme=dark] .colab-df-convert {\n",
              "      background-color: #3B4455;\n",
              "      fill: #D2E3FC;\n",
              "    }\n",
              "\n",
              "    [theme=dark] .colab-df-convert:hover {\n",
              "      background-color: #434B5C;\n",
              "      box-shadow: 0px 1px 3px 1px rgba(0, 0, 0, 0.15);\n",
              "      filter: drop-shadow(0px 1px 2px rgba(0, 0, 0, 0.3));\n",
              "      fill: #FFFFFF;\n",
              "    }\n",
              "  </style>\n",
              "\n",
              "      <script>\n",
              "        const buttonEl =\n",
              "          document.querySelector('#df-b1ecd1a0-0c16-43b6-95b9-513fc1e97faf button.colab-df-convert');\n",
              "        buttonEl.style.display =\n",
              "          google.colab.kernel.accessAllowed ? 'block' : 'none';\n",
              "\n",
              "        async function convertToInteractive(key) {\n",
              "          const element = document.querySelector('#df-b1ecd1a0-0c16-43b6-95b9-513fc1e97faf');\n",
              "          const dataTable =\n",
              "            await google.colab.kernel.invokeFunction('convertToInteractive',\n",
              "                                                     [key], {});\n",
              "          if (!dataTable) return;\n",
              "\n",
              "          const docLinkHtml = 'Like what you see? Visit the ' +\n",
              "            '<a target=\"_blank\" href=https://colab.research.google.com/notebooks/data_table.ipynb>data table notebook</a>'\n",
              "            + ' to learn more about interactive tables.';\n",
              "          element.innerHTML = '';\n",
              "          dataTable['output_type'] = 'display_data';\n",
              "          await google.colab.output.renderOutput(dataTable, element);\n",
              "          const docLink = document.createElement('div');\n",
              "          docLink.innerHTML = docLinkHtml;\n",
              "          element.appendChild(docLink);\n",
              "        }\n",
              "      </script>\n",
              "    </div>\n",
              "  </div>\n",
              "  "
            ]
          },
          "metadata": {},
          "execution_count": 30
        }
      ]
    },
    {
      "metadata": {
        "id": "0ukIC3F4OW1s"
      },
      "cell_type": "markdown",
      "source": [
        "We now merge the location pivot with the kolkata dataframe on 'Location' column"
      ]
    },
    {
      "metadata": {
        "trusted": true,
        "id": "TNCyAC44OW1x"
      },
      "cell_type": "code",
      "source": [
        "kolkata = pd.merge(kolkata, location_pivot['LocationPremium'], on='Location')"
      ],
      "execution_count": 31,
      "outputs": []
    },
    {
      "metadata": {
        "id": "zBM0cCj4OW10"
      },
      "cell_type": "markdown",
      "source": [
        "As a final step we calculate the <b>log</b> of LocationPremium. I observed that it yields better results than simply using LocationPremium"
      ]
    },
    {
      "metadata": {
        "trusted": true,
        "id": "LKtNy-RHOW13"
      },
      "cell_type": "code",
      "source": [
        "kolkata['LogPremium'] = np.log(kolkata['LocationPremium'])"
      ],
      "execution_count": 32,
      "outputs": []
    },
    {
      "metadata": {
        "trusted": true,
        "id": "eD6zM-NxOW16",
        "outputId": "88ff5482-ced7-4aff-e207-1844a11e28af",
        "colab": {
          "base_uri": "https://localhost:8080/",
          "height": 237
        }
      },
      "cell_type": "code",
      "source": [
        "# check if all required columns are present\n",
        "kolkata.head(3)"
      ],
      "execution_count": 33,
      "outputs": [
        {
          "output_type": "execute_result",
          "data": {
            "text/plain": [
              "     Price  Area Location  Bedrooms  Resale  MaintenanceStaff  Gymnasium  \\\n",
              "0  2235000  1016  Barasat         3       0                 0          1   \n",
              "1  2235000  1016  Barasat         3       0                 0          1   \n",
              "2  3200000  1200  Barasat         3       0                 0          0   \n",
              "\n",
              "   SwimmingPool  LandscapedGardens  JoggingTrack  ...  GolfCourse  TV  \\\n",
              "0             1                  1             1  ...           0   0   \n",
              "1             1                  1             1  ...           0   0   \n",
              "2             0                  0             0  ...           0   0   \n",
              "\n",
              "   DiningTable  Sofa  Wardrobe  Refrigerator     PricePSF  FeatureScore  \\\n",
              "0            0     0         0             0  2199.803150            27   \n",
              "1            0     0         0             0  2199.803150            27   \n",
              "2            0     0         0             0  2666.666667             0   \n",
              "\n",
              "   LocationPremium  LogPremium  \n",
              "0         6.327936    1.844974  \n",
              "1         6.327936    1.844974  \n",
              "2         6.327936    1.844974  \n",
              "\n",
              "[3 rows x 44 columns]"
            ],
            "text/html": [
              "\n",
              "  <div id=\"df-ec7b05cd-52e7-472e-b480-cf73e23051f5\">\n",
              "    <div class=\"colab-df-container\">\n",
              "      <div>\n",
              "<style scoped>\n",
              "    .dataframe tbody tr th:only-of-type {\n",
              "        vertical-align: middle;\n",
              "    }\n",
              "\n",
              "    .dataframe tbody tr th {\n",
              "        vertical-align: top;\n",
              "    }\n",
              "\n",
              "    .dataframe thead th {\n",
              "        text-align: right;\n",
              "    }\n",
              "</style>\n",
              "<table border=\"1\" class=\"dataframe\">\n",
              "  <thead>\n",
              "    <tr style=\"text-align: right;\">\n",
              "      <th></th>\n",
              "      <th>Price</th>\n",
              "      <th>Area</th>\n",
              "      <th>Location</th>\n",
              "      <th>Bedrooms</th>\n",
              "      <th>Resale</th>\n",
              "      <th>MaintenanceStaff</th>\n",
              "      <th>Gymnasium</th>\n",
              "      <th>SwimmingPool</th>\n",
              "      <th>LandscapedGardens</th>\n",
              "      <th>JoggingTrack</th>\n",
              "      <th>...</th>\n",
              "      <th>GolfCourse</th>\n",
              "      <th>TV</th>\n",
              "      <th>DiningTable</th>\n",
              "      <th>Sofa</th>\n",
              "      <th>Wardrobe</th>\n",
              "      <th>Refrigerator</th>\n",
              "      <th>PricePSF</th>\n",
              "      <th>FeatureScore</th>\n",
              "      <th>LocationPremium</th>\n",
              "      <th>LogPremium</th>\n",
              "    </tr>\n",
              "  </thead>\n",
              "  <tbody>\n",
              "    <tr>\n",
              "      <th>0</th>\n",
              "      <td>2235000</td>\n",
              "      <td>1016</td>\n",
              "      <td>Barasat</td>\n",
              "      <td>3</td>\n",
              "      <td>0</td>\n",
              "      <td>0</td>\n",
              "      <td>1</td>\n",
              "      <td>1</td>\n",
              "      <td>1</td>\n",
              "      <td>1</td>\n",
              "      <td>...</td>\n",
              "      <td>0</td>\n",
              "      <td>0</td>\n",
              "      <td>0</td>\n",
              "      <td>0</td>\n",
              "      <td>0</td>\n",
              "      <td>0</td>\n",
              "      <td>2199.803150</td>\n",
              "      <td>27</td>\n",
              "      <td>6.327936</td>\n",
              "      <td>1.844974</td>\n",
              "    </tr>\n",
              "    <tr>\n",
              "      <th>1</th>\n",
              "      <td>2235000</td>\n",
              "      <td>1016</td>\n",
              "      <td>Barasat</td>\n",
              "      <td>3</td>\n",
              "      <td>0</td>\n",
              "      <td>0</td>\n",
              "      <td>1</td>\n",
              "      <td>1</td>\n",
              "      <td>1</td>\n",
              "      <td>1</td>\n",
              "      <td>...</td>\n",
              "      <td>0</td>\n",
              "      <td>0</td>\n",
              "      <td>0</td>\n",
              "      <td>0</td>\n",
              "      <td>0</td>\n",
              "      <td>0</td>\n",
              "      <td>2199.803150</td>\n",
              "      <td>27</td>\n",
              "      <td>6.327936</td>\n",
              "      <td>1.844974</td>\n",
              "    </tr>\n",
              "    <tr>\n",
              "      <th>2</th>\n",
              "      <td>3200000</td>\n",
              "      <td>1200</td>\n",
              "      <td>Barasat</td>\n",
              "      <td>3</td>\n",
              "      <td>0</td>\n",
              "      <td>0</td>\n",
              "      <td>0</td>\n",
              "      <td>0</td>\n",
              "      <td>0</td>\n",
              "      <td>0</td>\n",
              "      <td>...</td>\n",
              "      <td>0</td>\n",
              "      <td>0</td>\n",
              "      <td>0</td>\n",
              "      <td>0</td>\n",
              "      <td>0</td>\n",
              "      <td>0</td>\n",
              "      <td>2666.666667</td>\n",
              "      <td>0</td>\n",
              "      <td>6.327936</td>\n",
              "      <td>1.844974</td>\n",
              "    </tr>\n",
              "  </tbody>\n",
              "</table>\n",
              "<p>3 rows × 44 columns</p>\n",
              "</div>\n",
              "      <button class=\"colab-df-convert\" onclick=\"convertToInteractive('df-ec7b05cd-52e7-472e-b480-cf73e23051f5')\"\n",
              "              title=\"Convert this dataframe to an interactive table.\"\n",
              "              style=\"display:none;\">\n",
              "        \n",
              "  <svg xmlns=\"http://www.w3.org/2000/svg\" height=\"24px\"viewBox=\"0 0 24 24\"\n",
              "       width=\"24px\">\n",
              "    <path d=\"M0 0h24v24H0V0z\" fill=\"none\"/>\n",
              "    <path d=\"M18.56 5.44l.94 2.06.94-2.06 2.06-.94-2.06-.94-.94-2.06-.94 2.06-2.06.94zm-11 1L8.5 8.5l.94-2.06 2.06-.94-2.06-.94L8.5 2.5l-.94 2.06-2.06.94zm10 10l.94 2.06.94-2.06 2.06-.94-2.06-.94-.94-2.06-.94 2.06-2.06.94z\"/><path d=\"M17.41 7.96l-1.37-1.37c-.4-.4-.92-.59-1.43-.59-.52 0-1.04.2-1.43.59L10.3 9.45l-7.72 7.72c-.78.78-.78 2.05 0 2.83L4 21.41c.39.39.9.59 1.41.59.51 0 1.02-.2 1.41-.59l7.78-7.78 2.81-2.81c.8-.78.8-2.07 0-2.86zM5.41 20L4 18.59l7.72-7.72 1.47 1.35L5.41 20z\"/>\n",
              "  </svg>\n",
              "      </button>\n",
              "      \n",
              "  <style>\n",
              "    .colab-df-container {\n",
              "      display:flex;\n",
              "      flex-wrap:wrap;\n",
              "      gap: 12px;\n",
              "    }\n",
              "\n",
              "    .colab-df-convert {\n",
              "      background-color: #E8F0FE;\n",
              "      border: none;\n",
              "      border-radius: 50%;\n",
              "      cursor: pointer;\n",
              "      display: none;\n",
              "      fill: #1967D2;\n",
              "      height: 32px;\n",
              "      padding: 0 0 0 0;\n",
              "      width: 32px;\n",
              "    }\n",
              "\n",
              "    .colab-df-convert:hover {\n",
              "      background-color: #E2EBFA;\n",
              "      box-shadow: 0px 1px 2px rgba(60, 64, 67, 0.3), 0px 1px 3px 1px rgba(60, 64, 67, 0.15);\n",
              "      fill: #174EA6;\n",
              "    }\n",
              "\n",
              "    [theme=dark] .colab-df-convert {\n",
              "      background-color: #3B4455;\n",
              "      fill: #D2E3FC;\n",
              "    }\n",
              "\n",
              "    [theme=dark] .colab-df-convert:hover {\n",
              "      background-color: #434B5C;\n",
              "      box-shadow: 0px 1px 3px 1px rgba(0, 0, 0, 0.15);\n",
              "      filter: drop-shadow(0px 1px 2px rgba(0, 0, 0, 0.3));\n",
              "      fill: #FFFFFF;\n",
              "    }\n",
              "  </style>\n",
              "\n",
              "      <script>\n",
              "        const buttonEl =\n",
              "          document.querySelector('#df-ec7b05cd-52e7-472e-b480-cf73e23051f5 button.colab-df-convert');\n",
              "        buttonEl.style.display =\n",
              "          google.colab.kernel.accessAllowed ? 'block' : 'none';\n",
              "\n",
              "        async function convertToInteractive(key) {\n",
              "          const element = document.querySelector('#df-ec7b05cd-52e7-472e-b480-cf73e23051f5');\n",
              "          const dataTable =\n",
              "            await google.colab.kernel.invokeFunction('convertToInteractive',\n",
              "                                                     [key], {});\n",
              "          if (!dataTable) return;\n",
              "\n",
              "          const docLinkHtml = 'Like what you see? Visit the ' +\n",
              "            '<a target=\"_blank\" href=https://colab.research.google.com/notebooks/data_table.ipynb>data table notebook</a>'\n",
              "            + ' to learn more about interactive tables.';\n",
              "          element.innerHTML = '';\n",
              "          dataTable['output_type'] = 'display_data';\n",
              "          await google.colab.output.renderOutput(dataTable, element);\n",
              "          const docLink = document.createElement('div');\n",
              "          docLink.innerHTML = docLinkHtml;\n",
              "          element.appendChild(docLink);\n",
              "        }\n",
              "      </script>\n",
              "    </div>\n",
              "  </div>\n",
              "  "
            ]
          },
          "metadata": {},
          "execution_count": 33
        }
      ]
    },
    {
      "metadata": {
        "id": "VZZTPGP4OW18"
      },
      "cell_type": "markdown",
      "source": [
        "<b>We are now ready to prepare our Linear Regression Model</b>"
      ]
    },
    {
      "metadata": {
        "trusted": true,
        "id": "aN_bCewCOW2B"
      },
      "cell_type": "code",
      "source": [
        "x = kolkata[['Area', 'FeatureScore', 'Resale', 'LogPremium', 'Bedrooms']]\n",
        "y = kolkata['Price']\n",
        "x_train, x_test, y_train, y_test = train_test_split(x, y, test_size=0.2, random_state=19)"
      ],
      "execution_count": 34,
      "outputs": []
    },
    {
      "metadata": {
        "id": "iuXteNN7OW2E"
      },
      "cell_type": "markdown",
      "source": [
        "<b>I used Statsmodel to run the regression as it yields a useful summary which is not provided by ScikitLearn</b>"
      ]
    },
    {
      "metadata": {
        "trusted": true,
        "id": "TziTx6T2OW2H",
        "outputId": "5c548630-6346-4b76-e2f7-499fc9cafb6a",
        "colab": {
          "base_uri": "https://localhost:8080/",
          "height": 900
        }
      },
      "cell_type": "code",
      "source": [
        "model = sm.OLS(y_train, x_train).fit()\n",
        "model.summary()"
      ],
      "execution_count": 35,
      "outputs": [
        {
          "output_type": "execute_result",
          "data": {
            "text/plain": [
              "<class 'statsmodels.iolib.summary.Summary'>\n",
              "\"\"\"\n",
              "                                 OLS Regression Results                                \n",
              "=======================================================================================\n",
              "Dep. Variable:                  Price   R-squared (uncentered):                   0.303\n",
              "Model:                            OLS   Adj. R-squared (uncentered):              0.303\n",
              "Method:                 Least Squares   F-statistic:                              452.6\n",
              "Date:                Mon, 19 Jun 2023   Prob (F-statistic):                        0.00\n",
              "Time:                        06:02:20   Log-Likelihood:                         -93124.\n",
              "No. Observations:                5205   AIC:                                  1.863e+05\n",
              "Df Residuals:                    5200   BIC:                                  1.863e+05\n",
              "Df Model:                           5                                                  \n",
              "Covariance Type:            nonrobust                                                  \n",
              "================================================================================\n",
              "                   coef    std err          t      P>|t|      [0.025      0.975]\n",
              "--------------------------------------------------------------------------------\n",
              "Area          5474.4776    316.289     17.308      0.000    4854.418    6094.538\n",
              "FeatureScore -2.926e+04   7.57e+04     -0.386      0.699   -1.78e+05    1.19e+05\n",
              "Resale         -9.4e+05   4.24e+05     -2.217      0.027   -1.77e+06   -1.09e+05\n",
              "LogPremium    4.157e+06   2.71e+05     15.356      0.000    3.63e+06    4.69e+06\n",
              "Bedrooms     -3.481e+06   3.35e+05    -10.406      0.000   -4.14e+06   -2.83e+06\n",
              "==============================================================================\n",
              "Omnibus:                     8832.306   Durbin-Watson:                   1.930\n",
              "Prob(Omnibus):                  0.000   Jarque-Bera (JB):         17666390.822\n",
              "Skew:                          11.209   Prob(JB):                         0.00\n",
              "Kurtosis:                     287.528   Cond. No.                     3.37e+03\n",
              "==============================================================================\n",
              "\n",
              "Notes:\n",
              "[1] R² is computed without centering (uncentered) since the model does not contain a constant.\n",
              "[2] Standard Errors assume that the covariance matrix of the errors is correctly specified.\n",
              "[3] The condition number is large, 3.37e+03. This might indicate that there are\n",
              "strong multicollinearity or other numerical problems.\n",
              "\"\"\""
            ],
            "text/html": [
              "<table class=\"simpletable\">\n",
              "<caption>OLS Regression Results</caption>\n",
              "<tr>\n",
              "  <th>Dep. Variable:</th>          <td>Price</td>      <th>  R-squared (uncentered):</th>      <td>   0.303</td> \n",
              "</tr>\n",
              "<tr>\n",
              "  <th>Model:</th>                   <td>OLS</td>       <th>  Adj. R-squared (uncentered):</th> <td>   0.303</td> \n",
              "</tr>\n",
              "<tr>\n",
              "  <th>Method:</th>             <td>Least Squares</td>  <th>  F-statistic:       </th>          <td>   452.6</td> \n",
              "</tr>\n",
              "<tr>\n",
              "  <th>Date:</th>             <td>Mon, 19 Jun 2023</td> <th>  Prob (F-statistic):</th>           <td>  0.00</td>  \n",
              "</tr>\n",
              "<tr>\n",
              "  <th>Time:</th>                 <td>06:02:20</td>     <th>  Log-Likelihood:    </th>          <td> -93124.</td> \n",
              "</tr>\n",
              "<tr>\n",
              "  <th>No. Observations:</th>      <td>  5205</td>      <th>  AIC:               </th>          <td>1.863e+05</td>\n",
              "</tr>\n",
              "<tr>\n",
              "  <th>Df Residuals:</th>          <td>  5200</td>      <th>  BIC:               </th>          <td>1.863e+05</td>\n",
              "</tr>\n",
              "<tr>\n",
              "  <th>Df Model:</th>              <td>     5</td>      <th>                     </th>              <td> </td>    \n",
              "</tr>\n",
              "<tr>\n",
              "  <th>Covariance Type:</th>      <td>nonrobust</td>    <th>                     </th>              <td> </td>    \n",
              "</tr>\n",
              "</table>\n",
              "<table class=\"simpletable\">\n",
              "<tr>\n",
              "        <td></td>          <th>coef</th>     <th>std err</th>      <th>t</th>      <th>P>|t|</th>  <th>[0.025</th>    <th>0.975]</th>  \n",
              "</tr>\n",
              "<tr>\n",
              "  <th>Area</th>         <td> 5474.4776</td> <td>  316.289</td> <td>   17.308</td> <td> 0.000</td> <td> 4854.418</td> <td> 6094.538</td>\n",
              "</tr>\n",
              "<tr>\n",
              "  <th>FeatureScore</th> <td>-2.926e+04</td> <td> 7.57e+04</td> <td>   -0.386</td> <td> 0.699</td> <td>-1.78e+05</td> <td> 1.19e+05</td>\n",
              "</tr>\n",
              "<tr>\n",
              "  <th>Resale</th>       <td>  -9.4e+05</td> <td> 4.24e+05</td> <td>   -2.217</td> <td> 0.027</td> <td>-1.77e+06</td> <td>-1.09e+05</td>\n",
              "</tr>\n",
              "<tr>\n",
              "  <th>LogPremium</th>   <td> 4.157e+06</td> <td> 2.71e+05</td> <td>   15.356</td> <td> 0.000</td> <td> 3.63e+06</td> <td> 4.69e+06</td>\n",
              "</tr>\n",
              "<tr>\n",
              "  <th>Bedrooms</th>     <td>-3.481e+06</td> <td> 3.35e+05</td> <td>  -10.406</td> <td> 0.000</td> <td>-4.14e+06</td> <td>-2.83e+06</td>\n",
              "</tr>\n",
              "</table>\n",
              "<table class=\"simpletable\">\n",
              "<tr>\n",
              "  <th>Omnibus:</th>       <td>8832.306</td> <th>  Durbin-Watson:     </th>   <td>   1.930</td>  \n",
              "</tr>\n",
              "<tr>\n",
              "  <th>Prob(Omnibus):</th>  <td> 0.000</td>  <th>  Jarque-Bera (JB):  </th> <td>17666390.822</td>\n",
              "</tr>\n",
              "<tr>\n",
              "  <th>Skew:</th>           <td>11.209</td>  <th>  Prob(JB):          </th>   <td>    0.00</td>  \n",
              "</tr>\n",
              "<tr>\n",
              "  <th>Kurtosis:</th>       <td>287.528</td> <th>  Cond. No.          </th>   <td>3.37e+03</td>  \n",
              "</tr>\n",
              "</table><br/><br/>Notes:<br/>[1] R² is computed without centering (uncentered) since the model does not contain a constant.<br/>[2] Standard Errors assume that the covariance matrix of the errors is correctly specified.<br/>[3] The condition number is large, 3.37e+03. This might indicate that there are<br/>strong multicollinearity or other numerical problems."
            ]
          },
          "metadata": {},
          "execution_count": 35
        }
      ]
    },
    {
      "metadata": {
        "id": "Eap6U83BOW2K"
      },
      "cell_type": "markdown",
      "source": [
        "<h3>Observations</h3>\n",
        "\n",
        "1. R squared value of 92.3% is good. However, we are yet to see how the model performs on test data\n",
        "2. Feature Score has a p-value of greater than 0.05, indicating that it is not an important determinant of price. Either that or I have not engineered it well.\n",
        "3. FeatureScore also has a very high range (even entering negative territory). Clearly there is much more to be engineered here as presence of even a single feature should not reduce the price of a house.\n",
        "4. Bedrooms has a negative coefficient, indicating more bedrooms lower the price. This seems like an anomaly and is a likely result of colinearity between bedrooms and Area. If modeled in the absense of Area, Bedrooms may result in a positive correlation.\n",
        "5. 'Resale = True' negatively impacts the price, which is understandable. However the extent (almost a million Rupees) may be a subject for further analysis for industry experts"
      ]
    },
    {
      "metadata": {
        "id": "GTVVRakJOW2M"
      },
      "cell_type": "markdown",
      "source": [
        "<b>Let us now see how the model performs on test data</b>"
      ]
    },
    {
      "metadata": {
        "trusted": true,
        "id": "2tCFh9nxOW2P",
        "outputId": "43a0da7f-8597-42ae-95ff-4747291f6c45",
        "colab": {
          "base_uri": "https://localhost:8080/",
          "height": 266
        }
      },
      "cell_type": "code",
      "source": [
        "predictions = model.predict(x_test)\n",
        "plt.scatter(x=y_test, y=predictions)\n",
        "plt.xlabel('Actual Test Prices')\n",
        "plt.ylabel('Predicted Test Prices')"
      ],
      "execution_count": 36,
      "outputs": [
        {
          "output_type": "execute_result",
          "data": {
            "text/plain": [
              "Text(0, 0.5, 'Predicted Test Prices')"
            ]
          },
          "metadata": {},
          "execution_count": 36
        },
        {
          "output_type": "display_data",
          "data": {
            "text/plain": [
              "<Figure size 640x480 with 1 Axes>"
            ],
            "image/png": "[encoded data removed]"
          },
          "metadata": {}
        }
      ]
    },
    {
      "metadata": {
        "id": "Cavy5catOW2U"
      },
      "cell_type": "markdown",
      "source": [
        "Although there seems to be a linear correlation between test set Prices and predicted Prices, there is also a fair bit of scatter. Let us check the residuals plot"
      ]
    },
    {
      "metadata": {
        "trusted": true,
        "id": "c7DAjKNkOW2X",
        "outputId": "569d378a-9cc3-42e9-f86b-cca7ab4be6be",
        "colab": {
          "base_uri": "https://localhost:8080/",
          "height": 464
        }
      },
      "cell_type": "code",
      "source": [
        "residuals = y_test - predictions\n",
        "sns.distplot(residuals)\n",
        "plt.xlabel('Residuals')"
      ],
      "execution_count": 37,
      "outputs": [
        {
          "output_type": "stream",
          "name": "stderr",
          "text": [
            "<ipython-input-37-1b676e3ddb97>:2: UserWarning: \n",
            "\n",
            "`distplot` is a deprecated function and will be removed in seaborn v0.14.0.\n",
            "\n",
            "Please adapt your code to use either `displot` (a figure-level function with\n",
            "similar flexibility) or `histplot` (an axes-level function for histograms).\n",
            "\n",
            "For a guide to updating your code to use the new functions, please see\n",
            "https://gist.github.com/mwaskom/de44147ed2974457ad6372750bbe5751\n",
            "\n",
            "  sns.distplot(residuals)\n"
          ]
        },
        {
          "output_type": "execute_result",
          "data": {
            "text/plain": [
              "Text(0.5, 0, 'Residuals')"
            ]
          },
          "metadata": {},
          "execution_count": 37
        },
        {
          "output_type": "display_data",
          "data": {
            "text/plain": [
              "<Figure size 640x480 with 1 Axes>"
            ],
            "image/png": "[encoded data removed]"
          },
          "metadata": {}
        }
      ]
    },
    {
      "metadata": {
        "id": "5I8P266EOW2a"
      },
      "cell_type": "markdown",
      "source": [
        "The residuals seem to be mostly normally distributed, except for a slight skew to the right. Residuals bordering on close to Rs 10 million are problematic. Let us now check the plot of residuals against predicted prices"
      ]
    },
    {
      "metadata": {
        "trusted": true,
        "id": "2sbigbCbOW2d",
        "outputId": "61c0d02f-c229-4ef0-c3a4-1edaf69b6271",
        "colab": {
          "base_uri": "https://localhost:8080/",
          "height": 248
        }
      },
      "cell_type": "code",
      "source": [
        "sns.regplot(x=predictions, y=residuals)\n",
        "plt.xlabel('Predicted Prices')\n",
        "plt.ylabel('Residuals')"
      ],
      "execution_count": 38,
      "outputs": [
        {
          "output_type": "execute_result",
          "data": {
            "text/plain": [
              "Text(0, 0.5, 'Residuals')"
            ]
          },
          "metadata": {},
          "execution_count": 38
        },
        {
          "output_type": "display_data",
          "data": {
            "text/plain": [
              "<Figure size 640x480 with 1 Axes>"
            ],
            "image/png": "[encoded data removed]"
          },
          "metadata": {}
        }
      ]
    },
    {
      "metadata": {
        "trusted": true,
        "id": "9IINTo0wOW2g",
        "outputId": "47080dda-0c5b-4d00-8de0-894c14dcd090",
        "colab": {
          "base_uri": "https://localhost:8080/"
        }
      },
      "cell_type": "code",
      "source": [
        "mean_absolute_error(y_test,predictions)"
      ],
      "execution_count": 39,
      "outputs": [
        {
          "output_type": "execute_result",
          "data": {
            "text/plain": [
              "6209636.434220369"
            ]
          },
          "metadata": {},
          "execution_count": 39
        }
      ]
    },
    {
      "metadata": {
        "trusted": true,
        "id": "4DbbeM0UOW2l",
        "outputId": "bdc684bf-744a-4241-cc66-64dcea606e94",
        "colab": {
          "base_uri": "https://localhost:8080/"
        }
      },
      "cell_type": "code",
      "source": [
        "predictions.mean()"
      ],
      "execution_count": 40,
      "outputs": [
        {
          "output_type": "execute_result",
          "data": {
            "text/plain": [
              "8785232.365842383"
            ]
          },
          "metadata": {},
          "execution_count": 40
        }
      ]
    },
    {
      "metadata": {
        "id": "5M0QfYA8OW2p"
      },
      "cell_type": "markdown",
      "source": [
        "<h3>Observations</h3>\n",
        "\n",
        "1. The residuals-predictions plot has a somewhat funnel/cone shape towards the right, indicating Heteroscadasticity. This is to be expected in housing prices as they do not vary uniformly. Houses which are very large or very small tend to be in short supply and hence command a higher PricePSF compared to commonly available sizes.\n",
        "2. For higher prices our model makes larger errors. I had expected this\n",
        "3. The residuals seem to be distributed almost equally on both sides of the straight line, indicating that our model over predicts and under predicts almost equally\n",
        "4. Mean absolute error of Rupees 1.65 million looks high for a range of values which has a mean of Rs 7.64 million"
      ]
    },
    {
      "metadata": {
        "id": "d2-L8juZOW2r"
      },
      "cell_type": "markdown",
      "source": [
        "Let us run our model once again, this time excluding Bedrooms as a predictor. Despite evidence against FeatureScore, I am retaining it as I am not fully convinced that features don't have an impact"
      ]
    },
    {
      "metadata": {
        "trusted": true,
        "id": "ZSpF1parOW2t"
      },
      "cell_type": "code",
      "source": [
        "x2 = kolkata[['Area', 'FeatureScore', 'Resale', 'LogPremium']]\n",
        "y2 = kolkata['Price']\n",
        "x_train2, x_test2, y_train2, y_test2 = train_test_split(x2, y2, test_size=0.2, random_state=19)"
      ],
      "execution_count": 41,
      "outputs": []
    },
    {
      "metadata": {
        "trusted": true,
        "id": "w9NZlYStOW2w",
        "outputId": "fffff181-9447-4f53-8c68-c4bdf59c48b0",
        "colab": {
          "base_uri": "https://localhost:8080/",
          "height": 879
        }
      },
      "cell_type": "code",
      "source": [
        "model2 = sm.OLS(y_train2, x_train2).fit()\n",
        "model2.summary()"
      ],
      "execution_count": 42,
      "outputs": [
        {
          "output_type": "execute_result",
          "data": {
            "text/plain": [
              "<class 'statsmodels.iolib.summary.Summary'>\n",
              "\"\"\"\n",
              "                                 OLS Regression Results                                \n",
              "=======================================================================================\n",
              "Dep. Variable:                  Price   R-squared (uncentered):                   0.289\n",
              "Model:                            OLS   Adj. R-squared (uncentered):              0.288\n",
              "Method:                 Least Squares   F-statistic:                              527.8\n",
              "Date:                Mon, 19 Jun 2023   Prob (F-statistic):                        0.00\n",
              "Time:                        06:02:21   Log-Likelihood:                         -93178.\n",
              "No. Observations:                5205   AIC:                                  1.864e+05\n",
              "Df Residuals:                    5201   BIC:                                  1.864e+05\n",
              "Df Model:                           4                                                  \n",
              "Covariance Type:            nonrobust                                                  \n",
              "================================================================================\n",
              "                   coef    std err          t      P>|t|      [0.025      0.975]\n",
              "--------------------------------------------------------------------------------\n",
              "Area          3321.4658    241.685     13.743      0.000    2847.661    3795.271\n",
              "FeatureScore -3.568e+04   7.65e+04     -0.467      0.641   -1.86e+05    1.14e+05\n",
              "Resale       -1.193e+06   4.28e+05     -2.790      0.005   -2.03e+06   -3.55e+05\n",
              "LogPremium    1.803e+06    1.5e+05     12.002      0.000    1.51e+06     2.1e+06\n",
              "==============================================================================\n",
              "Omnibus:                     8890.258   Durbin-Watson:                   1.935\n",
              "Prob(Omnibus):                  0.000   Jarque-Bera (JB):         17942400.500\n",
              "Skew:                          11.371   Prob(JB):                         0.00\n",
              "Kurtosis:                     289.730   Cond. No.                     3.37e+03\n",
              "==============================================================================\n",
              "\n",
              "Notes:\n",
              "[1] R² is computed without centering (uncentered) since the model does not contain a constant.\n",
              "[2] Standard Errors assume that the covariance matrix of the errors is correctly specified.\n",
              "[3] The condition number is large, 3.37e+03. This might indicate that there are\n",
              "strong multicollinearity or other numerical problems.\n",
              "\"\"\""
            ],
            "text/html": [
              "<table class=\"simpletable\">\n",
              "<caption>OLS Regression Results</caption>\n",
              "<tr>\n",
              "  <th>Dep. Variable:</th>          <td>Price</td>      <th>  R-squared (uncentered):</th>      <td>   0.289</td> \n",
              "</tr>\n",
              "<tr>\n",
              "  <th>Model:</th>                   <td>OLS</td>       <th>  Adj. R-squared (uncentered):</th> <td>   0.288</td> \n",
              "</tr>\n",
              "<tr>\n",
              "  <th>Method:</th>             <td>Least Squares</td>  <th>  F-statistic:       </th>          <td>   527.8</td> \n",
              "</tr>\n",
              "<tr>\n",
              "  <th>Date:</th>             <td>Mon, 19 Jun 2023</td> <th>  Prob (F-statistic):</th>           <td>  0.00</td>  \n",
              "</tr>\n",
              "<tr>\n",
              "  <th>Time:</th>                 <td>06:02:21</td>     <th>  Log-Likelihood:    </th>          <td> -93178.</td> \n",
              "</tr>\n",
              "<tr>\n",
              "  <th>No. Observations:</th>      <td>  5205</td>      <th>  AIC:               </th>          <td>1.864e+05</td>\n",
              "</tr>\n",
              "<tr>\n",
              "  <th>Df Residuals:</th>          <td>  5201</td>      <th>  BIC:               </th>          <td>1.864e+05</td>\n",
              "</tr>\n",
              "<tr>\n",
              "  <th>Df Model:</th>              <td>     4</td>      <th>                     </th>              <td> </td>    \n",
              "</tr>\n",
              "<tr>\n",
              "  <th>Covariance Type:</th>      <td>nonrobust</td>    <th>                     </th>              <td> </td>    \n",
              "</tr>\n",
              "</table>\n",
              "<table class=\"simpletable\">\n",
              "<tr>\n",
              "        <td></td>          <th>coef</th>     <th>std err</th>      <th>t</th>      <th>P>|t|</th>  <th>[0.025</th>    <th>0.975]</th>  \n",
              "</tr>\n",
              "<tr>\n",
              "  <th>Area</th>         <td> 3321.4658</td> <td>  241.685</td> <td>   13.743</td> <td> 0.000</td> <td> 2847.661</td> <td> 3795.271</td>\n",
              "</tr>\n",
              "<tr>\n",
              "  <th>FeatureScore</th> <td>-3.568e+04</td> <td> 7.65e+04</td> <td>   -0.467</td> <td> 0.641</td> <td>-1.86e+05</td> <td> 1.14e+05</td>\n",
              "</tr>\n",
              "<tr>\n",
              "  <th>Resale</th>       <td>-1.193e+06</td> <td> 4.28e+05</td> <td>   -2.790</td> <td> 0.005</td> <td>-2.03e+06</td> <td>-3.55e+05</td>\n",
              "</tr>\n",
              "<tr>\n",
              "  <th>LogPremium</th>   <td> 1.803e+06</td> <td>  1.5e+05</td> <td>   12.002</td> <td> 0.000</td> <td> 1.51e+06</td> <td>  2.1e+06</td>\n",
              "</tr>\n",
              "</table>\n",
              "<table class=\"simpletable\">\n",
              "<tr>\n",
              "  <th>Omnibus:</th>       <td>8890.258</td> <th>  Durbin-Watson:     </th>   <td>   1.935</td>  \n",
              "</tr>\n",
              "<tr>\n",
              "  <th>Prob(Omnibus):</th>  <td> 0.000</td>  <th>  Jarque-Bera (JB):  </th> <td>17942400.500</td>\n",
              "</tr>\n",
              "<tr>\n",
              "  <th>Skew:</th>           <td>11.371</td>  <th>  Prob(JB):          </th>   <td>    0.00</td>  \n",
              "</tr>\n",
              "<tr>\n",
              "  <th>Kurtosis:</th>       <td>289.730</td> <th>  Cond. No.          </th>   <td>3.37e+03</td>  \n",
              "</tr>\n",
              "</table><br/><br/>Notes:<br/>[1] R² is computed without centering (uncentered) since the model does not contain a constant.<br/>[2] Standard Errors assume that the covariance matrix of the errors is correctly specified.<br/>[3] The condition number is large, 3.37e+03. This might indicate that there are<br/>strong multicollinearity or other numerical problems."
            ]
          },
          "metadata": {},
          "execution_count": 42
        }
      ]
    },
    {
      "metadata": {
        "id": "HkoxfEBDOW21"
      },
      "cell_type": "markdown",
      "source": [
        "<h3>Observations</h3>\n",
        "\n",
        "1. The R-squared value is almost unchanged, but what is important to see is that the coefficient for Area has reduced. I like this because to me this coefficient represents the cost of construction and it is now closer to the real value (the cost of construction in India varies from Rupees 2500-3500 per square feet). This should be similar for all houses regardless of area and the premium should actually be derived from the Location\n",
        "2. The p-value of FeatureScore has increased, indicating it is even less important in this second model\n",
        "\n",
        "<b>Let us make predictions using model2</b>"
      ]
    },
    {
      "metadata": {
        "trusted": true,
        "id": "2q10deIlOW24"
      },
      "cell_type": "code",
      "source": [
        "predictions2 = model2.predict(x_test2)"
      ],
      "execution_count": 43,
      "outputs": []
    },
    {
      "metadata": {
        "id": "AFcFJmpSOW27"
      },
      "cell_type": "markdown",
      "source": [
        "I am skipping the plots and only concerning myself with the mean squared error for the time being"
      ]
    },
    {
      "metadata": {
        "trusted": true,
        "id": "EoJTyMOEOW29",
        "outputId": "241929bd-47bf-4ae4-c6ff-8702208fe0de",
        "colab": {
          "base_uri": "https://localhost:8080/"
        }
      },
      "cell_type": "code",
      "source": [
        "mean_absolute_error(y_test2,predictions2)"
      ],
      "execution_count": 44,
      "outputs": [
        {
          "output_type": "execute_result",
          "data": {
            "text/plain": [
              "6301104.95446526"
            ]
          },
          "metadata": {},
          "execution_count": 44
        }
      ]
    },
    {
      "metadata": {
        "trusted": true,
        "id": "yNmshN2BOW2_",
        "outputId": "780d6141-52c9-46a3-c6f5-faeb4fc5f80b",
        "colab": {
          "base_uri": "https://localhost:8080/"
        }
      },
      "cell_type": "code",
      "source": [
        "predictions2.mean()"
      ],
      "execution_count": 45,
      "outputs": [
        {
          "output_type": "execute_result",
          "data": {
            "text/plain": [
              "8815368.3718273"
            ]
          },
          "metadata": {},
          "execution_count": 45
        }
      ]
    },
    {
      "metadata": {
        "trusted": true,
        "id": "BV39B8W4OW3F",
        "outputId": "b265c980-c553-4f1b-880b-8b06e90bab8f",
        "colab": {
          "base_uri": "https://localhost:8080/"
        }
      },
      "cell_type": "code",
      "source": [
        "!pip install joblib"
      ],
      "execution_count": 46,
      "outputs": [
        {
          "output_type": "stream",
          "name": "stdout",
          "text": [
            "Looking in indexes: https://pypi.org/simple, https://us-python.pkg.dev/colab-wheels/public/simple/\n",
            "Requirement already satisfied: joblib in /usr/local/lib/python3.10/dist-packages (1.2.0)\n"
          ]
        }
      ]
    },
    {
      "metadata": {
        "trusted": true,
        "id": "7RMyEg1BOW3I",
        "outputId": "deccab12-2363-406f-b181-57baffe47391",
        "colab": {
          "base_uri": "https://localhost:8080/"
        }
      },
      "cell_type": "code",
      "source": [
        "import joblib\n",
        "\n",
        "# Save the model as a pickle in a file\n",
        "joblib.dump(model, 'model.pkl')"
      ],
      "execution_count": 47,
      "outputs": [
        {
          "output_type": "execute_result",
          "data": {
            "text/plain": [
              "['model.pkl']"
            ]
          },
          "metadata": {},
          "execution_count": 47
        }
      ]
    },
    {
      "metadata": {
        "id": "oqokOjocOW3L"
      },
      "cell_type": "markdown",
      "source": [
        "<h2>Concluding Remarks</h2>\n",
        "\n",
        "1. Model2 does not seem to be performing better than Model1 on test data.\n",
        "2. However, I do believe that Model2 does better than Model1 in assigning a lower coefficient to Area for reasons explained earlier\n",
        "3. Also as noted earlier, significant drivers of Price such as Developer reputation and Age of house are not available in the data set and these may impact the predictions\n",
        "4. Location Premium uses PricePSF in its calculation, which in turn uses Price, which is the dependent variable. I am not sure if and how much this impacts the model. Conceptually I need to study the impact of using a dependent variable in Feature Engineering\n",
        "5. Independent Houses / Villas need a separate label from high rise apartments as their pricing structure is significantly different, namely apartments have a lower component of land value in their pricing due to shared land. However in absense of such a label we have to live with ambiguity\n",
        "6. Domain/Industry expertise is very important and this is what helps in fine tuning parameters as well as identifying outliers and anomalies."
      ]
    },
    {
      "metadata": {
        "trusted": true,
        "id": "v_ojcuFiOW3O"
      },
      "cell_type": "code",
      "source": [],
      "execution_count": 47,
      "outputs": []
    }
  ],
  "metadata": {
    "kernelspec": {
      "name": "python3",
      "display_name": "Python 3",
      "language": "python"
    },
    "language_info": {
      "name": "python",
      "version": "3.7.6",
      "mimetype": "text/x-python",
      "codemirror_mode": {
        "name": "ipython",
        "version": 3
      },
      "pygments_lexer": "ipython3",
      "nbconvert_exporter": "python",
      "file_extension": ".py"
    },
    "colab": {
      "provenance": []
    }
  },
  "nbformat": 4,
  "nbformat_minor": 0
}